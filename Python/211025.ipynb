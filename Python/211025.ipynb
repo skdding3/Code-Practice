{
  "nbformat": 4,
  "nbformat_minor": 0,
  "metadata": {
    "colab": {
      "name": "21-1025.ipynb",
      "provenance": [],
      "authorship_tag": "ABX9TyOkiQV8Bnc7xnLH772pCFH2",
      "include_colab_link": true
    },
    "kernelspec": {
      "name": "python3",
      "display_name": "Python 3"
    },
    "language_info": {
      "name": "python"
    }
  },
  "cells": [
    {
      "cell_type": "markdown",
      "metadata": {
        "id": "view-in-github",
        "colab_type": "text"
      },
      "source": [
        "<a href=\"https://colab.research.google.com/github/skdding3/Code-Practice/blob/main/Python/211025.ipynb\" target=\"_parent\"><img src=\"https://colab.research.google.com/assets/colab-badge.svg\" alt=\"Open In Colab\"/></a>"
      ]
    },
    {
      "cell_type": "markdown",
      "metadata": {
        "id": "1k6EsRf2DEF6"
      },
      "source": [
        "## 리스트 적용 기본 함수\n",
        "\n",
        "min(), max(), sum()"
      ]
    },
    {
      "cell_type": "code",
      "metadata": {
        "colab": {
          "base_uri": "https://localhost:8080/"
        },
        "id": "mQVEZON-CXNC",
        "outputId": "eeb35ed2-e480-439b-f82d-57094c5e8571"
      },
      "source": [
        "numbers = [103, 52, 273, 32, 77]\n",
        "\n",
        "min(numbers) # 리스트 내부에서 최솟값"
      ],
      "execution_count": 1,
      "outputs": [
        {
          "output_type": "execute_result",
          "data": {
            "text/plain": [
              "32"
            ]
          },
          "metadata": {},
          "execution_count": 1
        }
      ]
    },
    {
      "cell_type": "code",
      "metadata": {
        "colab": {
          "base_uri": "https://localhost:8080/"
        },
        "id": "XmB7lPykCgjR",
        "outputId": "9e31a93e-949a-42cd-ea61-a604acda7aab"
      },
      "source": [
        "max(numbers) # 리스트 내부에서 최댓값"
      ],
      "execution_count": 2,
      "outputs": [
        {
          "output_type": "execute_result",
          "data": {
            "text/plain": [
              "273"
            ]
          },
          "metadata": {},
          "execution_count": 2
        }
      ]
    },
    {
      "cell_type": "code",
      "metadata": {
        "colab": {
          "base_uri": "https://localhost:8080/"
        },
        "id": "hlg3UQTnCkdr",
        "outputId": "fbd132cf-0966-4b98-d48d-dbfde8a4c89d"
      },
      "source": [
        "sum(numbers) # 리스트 내부 값을 모두 더함."
      ],
      "execution_count": 4,
      "outputs": [
        {
          "output_type": "execute_result",
          "data": {
            "text/plain": [
              "537"
            ]
          },
          "metadata": {},
          "execution_count": 4
        }
      ]
    },
    {
      "cell_type": "code",
      "metadata": {
        "colab": {
          "base_uri": "https://localhost:8080/"
        },
        "id": "U_JzMre1C0Hh",
        "outputId": "bfb8ea5d-c881-4a13-caab-9a5cfbfb056f"
      },
      "source": [
        "min(103, 52, 273) # 리스트 사용하지 않고 최솟값"
      ],
      "execution_count": 5,
      "outputs": [
        {
          "output_type": "execute_result",
          "data": {
            "text/plain": [
              "52"
            ]
          },
          "metadata": {},
          "execution_count": 5
        }
      ]
    },
    {
      "cell_type": "code",
      "metadata": {
        "colab": {
          "base_uri": "https://localhost:8080/"
        },
        "id": "S1YbCBQ1DSt_",
        "outputId": "9aeebad9-42ad-406b-99e5-9da3c59ab2b0"
      },
      "source": [
        "# enumerate() 함수와 반복문 조합\n",
        "\n",
        "example_list = [\"요소A\", \"요소B\", \"요소C\"]\n",
        "\n",
        "i = 0\n",
        "for item in example_list :\n",
        "    print(\"{}번째 요소는 {}입니다.\".format(i, item))\n",
        "    i += 1"
      ],
      "execution_count": 7,
      "outputs": [
        {
          "output_type": "stream",
          "name": "stdout",
          "text": [
            "0번째 요소는 요소A입니다.\n",
            "1번째 요소는 요소B입니다.\n",
            "2번째 요소는 요소C입니다.\n"
          ]
        }
      ]
    }
  ]
}