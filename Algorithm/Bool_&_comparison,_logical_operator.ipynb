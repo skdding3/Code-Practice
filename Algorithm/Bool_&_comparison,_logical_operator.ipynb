{
  "nbformat": 4,
  "nbformat_minor": 0,
  "metadata": {
    "colab": {
      "name": "Bool & comparison, logical operator.ipynb",
      "provenance": [],
      "authorship_tag": "ABX9TyNwqtA7TKJ+aO/tPapXSaYH",
      "include_colab_link": true
    },
    "kernelspec": {
      "name": "python3",
      "display_name": "Python 3"
    },
    "language_info": {
      "name": "python"
    }
  },
  "cells": [
    {
      "cell_type": "markdown",
      "metadata": {
        "id": "view-in-github",
        "colab_type": "text"
      },
      "source": [
        "<a href=\"https://colab.research.google.com/github/skdding3/Code-Practice/blob/main/Algorithm/Bool_%26_comparison%2C_logical_operator.ipynb\" target=\"_parent\"><img src=\"https://colab.research.google.com/assets/colab-badge.svg\" alt=\"Open In Colab\"/></a>"
      ]
    },
    {
      "cell_type": "markdown",
      "metadata": {
        "id": "wjTZUvrLQgN-"
      },
      "source": [
        "### 불과 비교 연산자 사용하기\n",
        "\n",
        "불은 True, False로 표현하며 1, 3.6, 'Python'처럼 값의 일종입니다."
      ]
    },
    {
      "cell_type": "code",
      "metadata": {
        "colab": {
          "base_uri": "https://localhost:8080/"
        },
        "id": "bTlUDNUbQKpW",
        "outputId": "28a06a70-ffd4-4c7e-b7c2-d2accb0ec0bd"
      },
      "source": [
        "True"
      ],
      "execution_count": 1,
      "outputs": [
        {
          "output_type": "execute_result",
          "data": {
            "text/plain": [
              "True"
            ]
          },
          "metadata": {},
          "execution_count": 1
        }
      ]
    },
    {
      "cell_type": "code",
      "metadata": {
        "colab": {
          "base_uri": "https://localhost:8080/"
        },
        "id": "thJBqhfGQk3J",
        "outputId": "ded648ae-e3e1-460a-a462-877ce13140b1"
      },
      "source": [
        "3 > 1"
      ],
      "execution_count": 2,
      "outputs": [
        {
          "output_type": "execute_result",
          "data": {
            "text/plain": [
              "True"
            ]
          },
          "metadata": {},
          "execution_count": 2
        }
      ]
    },
    {
      "cell_type": "code",
      "metadata": {
        "colab": {
          "base_uri": "https://localhost:8080/"
        },
        "id": "e_L_cpYpQspX",
        "outputId": "db14488a-36b9-4558-936f-c0dc030bbd8b"
      },
      "source": [
        "8 == 8  # 8이 8과 같은지?\n",
        "8 != 8  # 8이 8과 다른지?"
      ],
      "execution_count": 3,
      "outputs": [
        {
          "output_type": "execute_result",
          "data": {
            "text/plain": [
              "False"
            ]
          },
          "metadata": {},
          "execution_count": 3
        }
      ]
    },
    {
      "cell_type": "code",
      "metadata": {
        "colab": {
          "base_uri": "https://localhost:8080/"
        },
        "id": "B82LSFIAQ9gW",
        "outputId": "2b122bb6-4bc8-498c-cd55-e30237cc6bee"
      },
      "source": [
        "'Python' == 'python' #문자열도 비교 가능"
      ],
      "execution_count": 5,
      "outputs": [
        {
          "output_type": "execute_result",
          "data": {
            "text/plain": [
              "False"
            ]
          },
          "metadata": {},
          "execution_count": 5
        }
      ]
    },
    {
      "cell_type": "code",
      "metadata": {
        "colab": {
          "base_uri": "https://localhost:8080/"
        },
        "id": "CsgnhuMHRJ73",
        "outputId": "290f4368-e93e-4126-e17b-fcb33dcff4fb"
      },
      "source": [
        "1 == 1.0"
      ],
      "execution_count": 7,
      "outputs": [
        {
          "output_type": "execute_result",
          "data": {
            "text/plain": [
              "True"
            ]
          },
          "metadata": {},
          "execution_count": 7
        }
      ]
    },
    {
      "cell_type": "code",
      "metadata": {
        "colab": {
          "base_uri": "https://localhost:8080/"
        },
        "id": "wnFRczYuROdb",
        "outputId": "00ae94bf-23f8-491b-ad79-8a6544ec5ca1"
      },
      "source": [
        "1 is 1.0 #False인 이유는 1은 정수 객체, 1.0은 실수 객체이므로 두 객체는 서로 다르기 때문"
      ],
      "execution_count": 8,
      "outputs": [
        {
          "output_type": "execute_result",
          "data": {
            "text/plain": [
              "False"
            ]
          },
          "metadata": {},
          "execution_count": 8
        }
      ]
    },
    {
      "cell_type": "markdown",
      "metadata": {
        "id": "csagSaN6ReKw"
      },
      "source": [
        "값을 비교할때는 is로 비교하면 안된다.."
      ]
    }
  ]
}