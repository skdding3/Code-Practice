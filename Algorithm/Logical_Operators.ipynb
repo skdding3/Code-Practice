{
  "nbformat": 4,
  "nbformat_minor": 0,
  "metadata": {
    "colab": {
      "name": "Logical Operators.ipynb",
      "provenance": [],
      "authorship_tag": "ABX9TyNjBVI3AMYXH9jDQ7J0+YYL",
      "include_colab_link": true
    },
    "kernelspec": {
      "name": "python3",
      "display_name": "Python 3"
    },
    "language_info": {
      "name": "python"
    }
  },
  "cells": [
    {
      "cell_type": "markdown",
      "metadata": {
        "id": "view-in-github",
        "colab_type": "text"
      },
      "source": [
        "<a href=\"https://colab.research.google.com/github/skdding3/Code-Practice/blob/main/Algorithm/Logical_Operators.ipynb\" target=\"_parent\"><img src=\"https://colab.research.google.com/assets/colab-badge.svg\" alt=\"Open In Colab\"/></a>"
      ]
    },
    {
      "cell_type": "markdown",
      "metadata": {
        "id": "eyX0-NCmlGHH"
      },
      "source": [
        "## 논리연산자"
      ]
    },
    {
      "cell_type": "code",
      "metadata": {
        "colab": {
          "base_uri": "https://localhost:8080/"
        },
        "id": "nG79hagqk-K6",
        "outputId": "fb8e5b16-3ab8-4d03-e15b-4edbac0b0e35"
      },
      "source": [
        "True and True"
      ],
      "execution_count": 1,
      "outputs": [
        {
          "output_type": "execute_result",
          "data": {
            "text/plain": [
              "True"
            ]
          },
          "metadata": {},
          "execution_count": 1
        }
      ]
    },
    {
      "cell_type": "code",
      "metadata": {
        "colab": {
          "base_uri": "https://localhost:8080/"
        },
        "id": "5XgC6d5qlFcr",
        "outputId": "1c1f791d-0dc5-4d20-bdd4-a1617bf1f949"
      },
      "source": [
        "True and False"
      ],
      "execution_count": 2,
      "outputs": [
        {
          "output_type": "execute_result",
          "data": {
            "text/plain": [
              "False"
            ]
          },
          "metadata": {},
          "execution_count": 2
        }
      ]
    },
    {
      "cell_type": "code",
      "metadata": {
        "colab": {
          "base_uri": "https://localhost:8080/"
        },
        "id": "JtO6xKnulJ3s",
        "outputId": "d4bad00b-cf4b-41f6-b1b6-3c0aff1325b0"
      },
      "source": [
        "False and True"
      ],
      "execution_count": 3,
      "outputs": [
        {
          "output_type": "execute_result",
          "data": {
            "text/plain": [
              "False"
            ]
          },
          "metadata": {},
          "execution_count": 3
        }
      ]
    },
    {
      "cell_type": "code",
      "metadata": {
        "colab": {
          "base_uri": "https://localhost:8080/"
        },
        "id": "KihueuRClMMO",
        "outputId": "832f3027-7b30-41d7-d141-c2d678058171"
      },
      "source": [
        "False and False"
      ],
      "execution_count": 4,
      "outputs": [
        {
          "output_type": "execute_result",
          "data": {
            "text/plain": [
              "False"
            ]
          },
          "metadata": {},
          "execution_count": 4
        }
      ]
    },
    {
      "cell_type": "markdown",
      "metadata": {
        "id": "L4b5J9L3lRo3"
      },
      "source": [
        "and는 두 값이 모두 True라야 True다. 하나라도 False이면 False가 나온다."
      ]
    },
    {
      "cell_type": "code",
      "metadata": {
        "colab": {
          "base_uri": "https://localhost:8080/"
        },
        "id": "sozu37qQlRBF",
        "outputId": "eab6b71a-f748-4b01-d24d-592f69d1a52d"
      },
      "source": [
        "not True"
      ],
      "execution_count": 5,
      "outputs": [
        {
          "output_type": "execute_result",
          "data": {
            "text/plain": [
              "False"
            ]
          },
          "metadata": {},
          "execution_count": 5
        }
      ]
    },
    {
      "cell_type": "code",
      "metadata": {
        "colab": {
          "base_uri": "https://localhost:8080/"
        },
        "id": "buZpHE78lNw6",
        "outputId": "47781a50-e237-4074-a04d-e53a82d83bb9"
      },
      "source": [
        "not False"
      ],
      "execution_count": 6,
      "outputs": [
        {
          "output_type": "execute_result",
          "data": {
            "text/plain": [
              "True"
            ]
          },
          "metadata": {},
          "execution_count": 6
        }
      ]
    },
    {
      "cell_type": "code",
      "metadata": {
        "colab": {
          "base_uri": "https://localhost:8080/"
        },
        "id": "SqpqHyOTlYS0",
        "outputId": "edb9fad8-c1df-4f98-eee4-9ad0deb06122"
      },
      "source": [
        "not True and False or False"
      ],
      "execution_count": 7,
      "outputs": [
        {
          "output_type": "execute_result",
          "data": {
            "text/plain": [
              "False"
            ]
          },
          "metadata": {},
          "execution_count": 7
        }
      ]
    },
    {
      "cell_type": "markdown",
      "metadata": {
        "id": "CmWQV3u6lf4_"
      },
      "source": [
        "not True와 not False를 판단하여 False and False or True가 된다.\n",
        "\n",
        "```\n",
        "not True and False or not False\n",
        "False and False or True\n",
        "False or True\n",
        "```\n",
        "즉 True"
      ]
    },
    {
      "cell_type": "code",
      "metadata": {
        "id": "6zL1gQDwlbqx"
      },
      "source": [
        ""
      ],
      "execution_count": null,
      "outputs": []
    }
  ]
}