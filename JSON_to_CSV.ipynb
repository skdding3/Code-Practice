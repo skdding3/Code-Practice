{
  "nbformat": 4,
  "nbformat_minor": 0,
  "metadata": {
    "colab": {
      "name": "JSON to CSV.ipynb",
      "provenance": [],
      "authorship_tag": "ABX9TyOtMAsiVk6pLN90Rl8ci+vj",
      "include_colab_link": true
    },
    "kernelspec": {
      "name": "python3",
      "display_name": "Python 3"
    },
    "language_info": {
      "name": "python"
    }
  },
  "cells": [
    {
      "cell_type": "markdown",
      "metadata": {
        "id": "view-in-github",
        "colab_type": "text"
      },
      "source": [
        "<a href=\"https://colab.research.google.com/github/skdding3/Code-Practice/blob/main/JSON_to_CSV.ipynb\" target=\"_parent\"><img src=\"https://colab.research.google.com/assets/colab-badge.svg\" alt=\"Open In Colab\"/></a>"
      ]
    },
    {
      "cell_type": "code",
      "metadata": {
        "id": "ofPDM82zzjKq"
      },
      "source": [
        "import pandas as pd\n",
        "import json\n",
        "\n",
        "data = '''\n",
        "{\n",
        "\"Results\":\n",
        "         [\n",
        "         { \"id\": \"1\", \"Name\": \"Jay\" },\n",
        "         { \"id\": \"2\", \"Name\": \"Mark\" },\n",
        "         { \"id\": \"3\", \"Name\": \"Jack\" }\n",
        "         ],\n",
        "\"status\": [\"ok\"]\n",
        "}\n",
        "'''\n",
        "\n",
        "info = json.loads(data)\n",
        "\n",
        "df = pd.json_normalize(info['Results'])\n",
        "\n",
        "df.to_csv(\"samplecsv.csv\")"
      ],
      "execution_count": 1,
      "outputs": []
    },
    {
      "cell_type": "markdown",
      "metadata": {
        "id": "noCYI18Bzsmf"
      },
      "source": [
        "csv 모듈을 사용하여 JSON을 CSV 파일로 변환"
      ]
    },
    {
      "cell_type": "code",
      "metadata": {
        "colab": {
          "base_uri": "https://localhost:8080/"
        },
        "id": "s7IO5nnNzsXI",
        "outputId": "96f95c5c-3693-49da-8b2f-9d33e19d6976"
      },
      "source": [
        "import csv\n",
        "import json\n",
        "\n",
        "data = '''\n",
        "{\n",
        "\"Results\":\n",
        "         [\n",
        "         { \"id\": \"1\", \"Name\": \"Jay\" },\n",
        "         { \"id\": \"2\", \"Name\": \"Mark\" },\n",
        "         { \"id\": \"3\", \"Name\": \"Jack\" }\n",
        "         ],\n",
        "\"status\": [\"ok\"]\n",
        "}\n",
        "'''\n",
        "\n",
        "info = json.loads(data)['Results']\n",
        "\n",
        "print(info[0].keys())\n",
        "\n",
        "with open(\"samplecsv.csv\", 'w') as f: \n",
        "    wr = csv.DictWriter(f, fieldnames = info[0].keys()) \n",
        "    wr.writeheader() \n",
        "    wr.writerows(info) "
      ],
      "execution_count": 2,
      "outputs": [
        {
          "output_type": "stream",
          "text": [
            "dict_keys(['id', 'Name'])\n"
          ],
          "name": "stdout"
        }
      ]
    }
  ]
}