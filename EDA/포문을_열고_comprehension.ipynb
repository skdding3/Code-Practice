{
  "nbformat": 4,
  "nbformat_minor": 0,
  "metadata": {
    "kernelspec": {
      "display_name": "Python 3",
      "language": "python",
      "name": "python3"
    },
    "language_info": {
      "codemirror_mode": {
        "name": "ipython",
        "version": 3
      },
      "file_extension": ".py",
      "mimetype": "text/x-python",
      "name": "python",
      "nbconvert_exporter": "python",
      "pygments_lexer": "ipython3",
      "version": "3.6.4"
    },
    "colab": {
      "name": "포문을 열고 comprehension.ipynb",
      "provenance": [],
      "include_colab_link": true
    }
  },
  "cells": [
    {
      "cell_type": "markdown",
      "metadata": {
        "id": "view-in-github",
        "colab_type": "text"
      },
      "source": [
        "<a href=\"https://colab.research.google.com/github/skdding3/Code-Practice/blob/main/EDA/%ED%8F%AC%EB%AC%B8%EC%9D%84_%EC%97%B4%EA%B3%A0_comprehension.ipynb\" target=\"_parent\"><img src=\"https://colab.research.google.com/assets/colab-badge.svg\" alt=\"Open In Colab\"/></a>"
      ]
    },
    {
      "cell_type": "markdown",
      "metadata": {
        "id": "DISRn0yMoKkk"
      },
      "source": [
        "#### for문 기초 예제"
      ]
    },
    {
      "cell_type": "code",
      "metadata": {
        "id": "ffC6i8qIoKkl",
        "outputId": "0f472509-1eff-411e-e0d9-69439e30451b"
      },
      "source": [
        "L = [1, 2, 3, 4, 5]\n",
        "for l in L:\n",
        "    print(l)\n",
        "    if l == 3:\n",
        "        break"
      ],
      "execution_count": null,
      "outputs": [
        {
          "output_type": "stream",
          "text": [
            "1\n",
            "2\n",
            "3\n"
          ],
          "name": "stdout"
        }
      ]
    },
    {
      "cell_type": "code",
      "metadata": {
        "id": "jklYuMc1oKkm",
        "outputId": "4a6cd5ee-7e2a-4d6a-823f-49c9ace19515"
      },
      "source": [
        "list(range(1, 5, 2))"
      ],
      "execution_count": null,
      "outputs": [
        {
          "output_type": "execute_result",
          "data": {
            "text/plain": [
              "[1, 3]"
            ]
          },
          "metadata": {
            "tags": []
          },
          "execution_count": 3
        }
      ]
    },
    {
      "cell_type": "code",
      "metadata": {
        "id": "SzZsOcUDoKkn",
        "outputId": "6c6ed5c3-bc18-476d-afeb-d6f51c9724e9"
      },
      "source": [
        "for x in range(1, 5, 2):\n",
        "    print(x)"
      ],
      "execution_count": null,
      "outputs": [
        {
          "output_type": "stream",
          "text": [
            "1\n",
            "3\n"
          ],
          "name": "stdout"
        }
      ]
    },
    {
      "cell_type": "code",
      "metadata": {
        "id": "1BCCt_-DoKkn",
        "outputId": "18738c1b-4130-4a44-9f36-a5d8f7f85c29"
      },
      "source": [
        "# range 함수를 사용한 구구단 \n",
        "# nested for문\n",
        "for i in range(2, 10):\n",
        "    for j in range(1, 10):\n",
        "        print(\"{}*{}={}\".format(i, j, i*j))\n",
        "    print('\\n')"
      ],
      "execution_count": null,
      "outputs": [
        {
          "output_type": "stream",
          "text": [
            "2*1=2\n",
            "2*2=4\n",
            "2*3=6\n",
            "2*4=8\n",
            "2*5=10\n",
            "2*6=12\n",
            "2*7=14\n",
            "2*8=16\n",
            "2*9=18\n",
            "\n",
            "\n",
            "3*1=3\n",
            "3*2=6\n",
            "3*3=9\n",
            "3*4=12\n",
            "3*5=15\n",
            "3*6=18\n",
            "3*7=21\n",
            "3*8=24\n",
            "3*9=27\n",
            "\n",
            "\n",
            "4*1=4\n",
            "4*2=8\n",
            "4*3=12\n",
            "4*4=16\n",
            "4*5=20\n",
            "4*6=24\n",
            "4*7=28\n",
            "4*8=32\n",
            "4*9=36\n",
            "\n",
            "\n",
            "5*1=5\n",
            "5*2=10\n",
            "5*3=15\n",
            "5*4=20\n",
            "5*5=25\n",
            "5*6=30\n",
            "5*7=35\n",
            "5*8=40\n",
            "5*9=45\n",
            "\n",
            "\n",
            "6*1=6\n",
            "6*2=12\n",
            "6*3=18\n",
            "6*4=24\n",
            "6*5=30\n",
            "6*6=36\n",
            "6*7=42\n",
            "6*8=48\n",
            "6*9=54\n",
            "\n",
            "\n",
            "7*1=7\n",
            "7*2=14\n",
            "7*3=21\n",
            "7*4=28\n",
            "7*5=35\n",
            "7*6=42\n",
            "7*7=49\n",
            "7*8=56\n",
            "7*9=63\n",
            "\n",
            "\n",
            "8*1=8\n",
            "8*2=16\n",
            "8*3=24\n",
            "8*4=32\n",
            "8*5=40\n",
            "8*6=48\n",
            "8*7=56\n",
            "8*8=64\n",
            "8*9=72\n",
            "\n",
            "\n",
            "9*1=9\n",
            "9*2=18\n",
            "9*3=27\n",
            "9*4=36\n",
            "9*5=45\n",
            "9*6=54\n",
            "9*7=63\n",
            "9*8=72\n",
            "9*9=81\n",
            "\n",
            "\n"
          ],
          "name": "stdout"
        }
      ]
    },
    {
      "cell_type": "markdown",
      "metadata": {
        "id": "1rxdH7PYoKkn"
      },
      "source": [
        "#### itertools 모듈 사용 예제"
      ]
    },
    {
      "cell_type": "code",
      "metadata": {
        "id": "QFBy1jJEoKko"
      },
      "source": [
        "import itertools"
      ],
      "execution_count": 1,
      "outputs": []
    },
    {
      "cell_type": "code",
      "metadata": {
        "colab": {
          "base_uri": "https://localhost:8080/"
        },
        "id": "tQE8CUF5oKko",
        "outputId": "461c63c8-2726-4682-d967-98d231a72eb0"
      },
      "source": [
        "# itertools.product\n",
        "count = 0\n",
        "for a, b, c in itertools.product(range(5), range(5), range(5)):\n",
        "    print(a, b, c)"
      ],
      "execution_count": 2,
      "outputs": [
        {
          "output_type": "stream",
          "text": [
            "0 0 0\n",
            "0 0 1\n",
            "0 0 2\n",
            "0 0 3\n",
            "0 0 4\n",
            "0 1 0\n",
            "0 1 1\n",
            "0 1 2\n",
            "0 1 3\n",
            "0 1 4\n",
            "0 2 0\n",
            "0 2 1\n",
            "0 2 2\n",
            "0 2 3\n",
            "0 2 4\n",
            "0 3 0\n",
            "0 3 1\n",
            "0 3 2\n",
            "0 3 3\n",
            "0 3 4\n",
            "0 4 0\n",
            "0 4 1\n",
            "0 4 2\n",
            "0 4 3\n",
            "0 4 4\n",
            "1 0 0\n",
            "1 0 1\n",
            "1 0 2\n",
            "1 0 3\n",
            "1 0 4\n",
            "1 1 0\n",
            "1 1 1\n",
            "1 1 2\n",
            "1 1 3\n",
            "1 1 4\n",
            "1 2 0\n",
            "1 2 1\n",
            "1 2 2\n",
            "1 2 3\n",
            "1 2 4\n",
            "1 3 0\n",
            "1 3 1\n",
            "1 3 2\n",
            "1 3 3\n",
            "1 3 4\n",
            "1 4 0\n",
            "1 4 1\n",
            "1 4 2\n",
            "1 4 3\n",
            "1 4 4\n",
            "2 0 0\n",
            "2 0 1\n",
            "2 0 2\n",
            "2 0 3\n",
            "2 0 4\n",
            "2 1 0\n",
            "2 1 1\n",
            "2 1 2\n",
            "2 1 3\n",
            "2 1 4\n",
            "2 2 0\n",
            "2 2 1\n",
            "2 2 2\n",
            "2 2 3\n",
            "2 2 4\n",
            "2 3 0\n",
            "2 3 1\n",
            "2 3 2\n",
            "2 3 3\n",
            "2 3 4\n",
            "2 4 0\n",
            "2 4 1\n",
            "2 4 2\n",
            "2 4 3\n",
            "2 4 4\n",
            "3 0 0\n",
            "3 0 1\n",
            "3 0 2\n",
            "3 0 3\n",
            "3 0 4\n",
            "3 1 0\n",
            "3 1 1\n",
            "3 1 2\n",
            "3 1 3\n",
            "3 1 4\n",
            "3 2 0\n",
            "3 2 1\n",
            "3 2 2\n",
            "3 2 3\n",
            "3 2 4\n",
            "3 3 0\n",
            "3 3 1\n",
            "3 3 2\n",
            "3 3 3\n",
            "3 3 4\n",
            "3 4 0\n",
            "3 4 1\n",
            "3 4 2\n",
            "3 4 3\n",
            "3 4 4\n",
            "4 0 0\n",
            "4 0 1\n",
            "4 0 2\n",
            "4 0 3\n",
            "4 0 4\n",
            "4 1 0\n",
            "4 1 1\n",
            "4 1 2\n",
            "4 1 3\n",
            "4 1 4\n",
            "4 2 0\n",
            "4 2 1\n",
            "4 2 2\n",
            "4 2 3\n",
            "4 2 4\n",
            "4 3 0\n",
            "4 3 1\n",
            "4 3 2\n",
            "4 3 3\n",
            "4 3 4\n",
            "4 4 0\n",
            "4 4 1\n",
            "4 4 2\n",
            "4 4 3\n",
            "4 4 4\n"
          ],
          "name": "stdout"
        }
      ]
    },
    {
      "cell_type": "code",
      "metadata": {
        "id": "BNZ3ft0goKkp",
        "outputId": "658fd7cd-eec9-4213-b3c9-7df21ea8486a"
      },
      "source": [
        "for a in range(5):\n",
        "    for b in range(5):\n",
        "        for c in range(5):\n",
        "            print(a, b, c)"
      ],
      "execution_count": null,
      "outputs": [
        {
          "output_type": "stream",
          "text": [
            "0 0 0\n",
            "0 0 1\n",
            "0 0 2\n",
            "0 0 3\n",
            "0 0 4\n",
            "0 1 0\n",
            "0 1 1\n",
            "0 1 2\n",
            "0 1 3\n",
            "0 1 4\n",
            "0 2 0\n",
            "0 2 1\n",
            "0 2 2\n",
            "0 2 3\n",
            "0 2 4\n",
            "0 3 0\n",
            "0 3 1\n",
            "0 3 2\n",
            "0 3 3\n",
            "0 3 4\n",
            "0 4 0\n",
            "0 4 1\n",
            "0 4 2\n",
            "0 4 3\n",
            "0 4 4\n",
            "1 0 0\n",
            "1 0 1\n",
            "1 0 2\n",
            "1 0 3\n",
            "1 0 4\n",
            "1 1 0\n",
            "1 1 1\n",
            "1 1 2\n",
            "1 1 3\n",
            "1 1 4\n",
            "1 2 0\n",
            "1 2 1\n",
            "1 2 2\n",
            "1 2 3\n",
            "1 2 4\n",
            "1 3 0\n",
            "1 3 1\n",
            "1 3 2\n",
            "1 3 3\n",
            "1 3 4\n",
            "1 4 0\n",
            "1 4 1\n",
            "1 4 2\n",
            "1 4 3\n",
            "1 4 4\n",
            "2 0 0\n",
            "2 0 1\n",
            "2 0 2\n",
            "2 0 3\n",
            "2 0 4\n",
            "2 1 0\n",
            "2 1 1\n",
            "2 1 2\n",
            "2 1 3\n",
            "2 1 4\n",
            "2 2 0\n",
            "2 2 1\n",
            "2 2 2\n",
            "2 2 3\n",
            "2 2 4\n",
            "2 3 0\n",
            "2 3 1\n",
            "2 3 2\n",
            "2 3 3\n",
            "2 3 4\n",
            "2 4 0\n",
            "2 4 1\n",
            "2 4 2\n",
            "2 4 3\n",
            "2 4 4\n",
            "3 0 0\n",
            "3 0 1\n",
            "3 0 2\n",
            "3 0 3\n",
            "3 0 4\n",
            "3 1 0\n",
            "3 1 1\n",
            "3 1 2\n",
            "3 1 3\n",
            "3 1 4\n",
            "3 2 0\n",
            "3 2 1\n",
            "3 2 2\n",
            "3 2 3\n",
            "3 2 4\n",
            "3 3 0\n",
            "3 3 1\n",
            "3 3 2\n",
            "3 3 3\n",
            "3 3 4\n",
            "3 4 0\n",
            "3 4 1\n",
            "3 4 2\n",
            "3 4 3\n",
            "3 4 4\n",
            "4 0 0\n",
            "4 0 1\n",
            "4 0 2\n",
            "4 0 3\n",
            "4 0 4\n",
            "4 1 0\n",
            "4 1 1\n",
            "4 1 2\n",
            "4 1 3\n",
            "4 1 4\n",
            "4 2 0\n",
            "4 2 1\n",
            "4 2 2\n",
            "4 2 3\n",
            "4 2 4\n",
            "4 3 0\n",
            "4 3 1\n",
            "4 3 2\n",
            "4 3 3\n",
            "4 3 4\n",
            "4 4 0\n",
            "4 4 1\n",
            "4 4 2\n",
            "4 4 3\n",
            "4 4 4\n"
          ],
          "name": "stdout"
        }
      ]
    },
    {
      "cell_type": "code",
      "metadata": {
        "id": "cwfyGrWIoKkp",
        "outputId": "43254e8e-3bcc-413b-f7f1-fee208ba7ca7"
      },
      "source": [
        "for a, b, c in zip(range(5), range(5), range(5)):\n",
        "    print(a, b, c)"
      ],
      "execution_count": null,
      "outputs": [
        {
          "output_type": "stream",
          "text": [
            "0 0 0\n",
            "1 1 1\n",
            "2 2 2\n",
            "3 3 3\n",
            "4 4 4\n"
          ],
          "name": "stdout"
        }
      ]
    },
    {
      "cell_type": "code",
      "metadata": {
        "id": "7OLL8y7DoKkq",
        "outputId": "a741578d-928c-42fe-aa1f-bda730df922c"
      },
      "source": [
        "# itertools.combination\n",
        "# L에서 2개로 이뤄진 가능한 모든 조합 뽑기\n",
        "L = ['a', 'b', 'c', 'd']\n",
        "for comb in itertools.combinations(L, 2):\n",
        "    print(comb)"
      ],
      "execution_count": null,
      "outputs": [
        {
          "output_type": "stream",
          "text": [
            "('a', 'b')\n",
            "('a', 'c')\n",
            "('a', 'd')\n",
            "('b', 'c')\n",
            "('b', 'd')\n",
            "('c', 'd')\n"
          ],
          "name": "stdout"
        }
      ]
    },
    {
      "cell_type": "code",
      "metadata": {
        "id": "ZGifdHmuoKkq",
        "outputId": "a05e196d-c0d9-4ec5-b5f3-e4e990cdd6c4"
      },
      "source": [
        "# L에서 가능한 모든 조합 뽑기\n",
        "for r in range(1, len(L) + 1):\n",
        "    for comb in itertools.combinations(L, r):\n",
        "        print(comb)"
      ],
      "execution_count": null,
      "outputs": [
        {
          "output_type": "stream",
          "text": [
            "('a',)\n",
            "('b',)\n",
            "('c',)\n",
            "('d',)\n",
            "('a', 'b')\n",
            "('a', 'c')\n",
            "('a', 'd')\n",
            "('b', 'c')\n",
            "('b', 'd')\n",
            "('c', 'd')\n",
            "('a', 'b', 'c')\n",
            "('a', 'b', 'd')\n",
            "('a', 'c', 'd')\n",
            "('b', 'c', 'd')\n",
            "('a', 'b', 'c', 'd')\n"
          ],
          "name": "stdout"
        }
      ]
    },
    {
      "cell_type": "code",
      "metadata": {
        "id": "T1mONSlxoKkq",
        "outputId": "7a321850-c3bc-4073-904a-8258b5e2c406"
      },
      "source": [
        "# L에서 가능한 모든 순열 뽑기\n",
        "for r in range(1, len(L)):\n",
        "    for comb in itertools.permutations(L, r):\n",
        "        print(comb)"
      ],
      "execution_count": null,
      "outputs": [
        {
          "output_type": "stream",
          "text": [
            "('a',)\n",
            "('b',)\n",
            "('c',)\n",
            "('d',)\n",
            "('a', 'b')\n",
            "('a', 'c')\n",
            "('a', 'd')\n",
            "('b', 'a')\n",
            "('b', 'c')\n",
            "('b', 'd')\n",
            "('c', 'a')\n",
            "('c', 'b')\n",
            "('c', 'd')\n",
            "('d', 'a')\n",
            "('d', 'b')\n",
            "('d', 'c')\n",
            "('a', 'b', 'c')\n",
            "('a', 'b', 'd')\n",
            "('a', 'c', 'b')\n",
            "('a', 'c', 'd')\n",
            "('a', 'd', 'b')\n",
            "('a', 'd', 'c')\n",
            "('b', 'a', 'c')\n",
            "('b', 'a', 'd')\n",
            "('b', 'c', 'a')\n",
            "('b', 'c', 'd')\n",
            "('b', 'd', 'a')\n",
            "('b', 'd', 'c')\n",
            "('c', 'a', 'b')\n",
            "('c', 'a', 'd')\n",
            "('c', 'b', 'a')\n",
            "('c', 'b', 'd')\n",
            "('c', 'd', 'a')\n",
            "('c', 'd', 'b')\n",
            "('d', 'a', 'b')\n",
            "('d', 'a', 'c')\n",
            "('d', 'b', 'a')\n",
            "('d', 'b', 'c')\n",
            "('d', 'c', 'a')\n",
            "('d', 'c', 'b')\n"
          ],
          "name": "stdout"
        }
      ]
    },
    {
      "cell_type": "markdown",
      "metadata": {
        "id": "Q1JSim1woKkr"
      },
      "source": [
        "#### List comprehension"
      ]
    },
    {
      "cell_type": "code",
      "metadata": {
        "id": "EbukHL31oKkr",
        "outputId": "28b51662-ed3b-4904-ba53-9550189c1878"
      },
      "source": [
        "L1 = [x for x in range(10)]\n",
        "L1"
      ],
      "execution_count": null,
      "outputs": [
        {
          "output_type": "execute_result",
          "data": {
            "text/plain": [
              "[0, 1, 2, 3, 4, 5, 6, 7, 8, 9]"
            ]
          },
          "metadata": {
            "tags": []
          },
          "execution_count": 12
        }
      ]
    },
    {
      "cell_type": "code",
      "metadata": {
        "id": "LacC-BfDoKkr",
        "outputId": "fe71caa7-656c-42e5-b810-049d5bd685eb"
      },
      "source": [
        "L1 = []\n",
        "for x in range(10):\n",
        "    L1.append(x)\n",
        "L1"
      ],
      "execution_count": null,
      "outputs": [
        {
          "output_type": "execute_result",
          "data": {
            "text/plain": [
              "[0, 1, 2, 3, 4, 5, 6, 7, 8, 9]"
            ]
          },
          "metadata": {
            "tags": []
          },
          "execution_count": 13
        }
      ]
    },
    {
      "cell_type": "code",
      "metadata": {
        "id": "KpvW-gV_oKkr",
        "outputId": "9701e422-7085-4579-ba5b-54c11db9459a"
      },
      "source": [
        "L2 = [x**2 for x in range(10)]\n",
        "L2"
      ],
      "execution_count": null,
      "outputs": [
        {
          "output_type": "execute_result",
          "data": {
            "text/plain": [
              "[0, 1, 4, 9, 16, 25, 36, 49, 64, 81]"
            ]
          },
          "metadata": {
            "tags": []
          },
          "execution_count": 14
        }
      ]
    },
    {
      "cell_type": "code",
      "metadata": {
        "id": "Psu-BxtNoKks",
        "outputId": "2513308f-c36e-492d-f676-391d27cde787"
      },
      "source": [
        "L3 = [x**2 for x in range(10) if x%2 == 0]\n",
        "L3"
      ],
      "execution_count": null,
      "outputs": [
        {
          "output_type": "execute_result",
          "data": {
            "text/plain": [
              "[0, 4, 16, 36, 64]"
            ]
          },
          "metadata": {
            "tags": []
          },
          "execution_count": 53
        }
      ]
    },
    {
      "cell_type": "code",
      "metadata": {
        "id": "5rhcJ0pjoKks",
        "outputId": "14cf823e-1a96-4351-c2dd-986a9cdfd8c6"
      },
      "source": [
        "L3 = []\n",
        "for x in range(10):\n",
        "    if x%2 == 0:\n",
        "        L3.append(x**2)\n",
        "L3"
      ],
      "execution_count": null,
      "outputs": [
        {
          "output_type": "execute_result",
          "data": {
            "text/plain": [
              "[0, 4, 16, 36, 64]"
            ]
          },
          "metadata": {
            "tags": []
          },
          "execution_count": 15
        }
      ]
    },
    {
      "cell_type": "code",
      "metadata": {
        "id": "sqQXrHRBoKks",
        "outputId": "0b25c0f2-e498-46ee-f157-ef81b039f071"
      },
      "source": [
        "X = [1, 2, 3, 'a', 'b']\n",
        "Y = [3, 1, 2, 'c', 4]\n",
        "\n",
        "L4 = [x + y for x, y in itertools.product(X, Y) if type(x) == type(y) == int]\n",
        "L4"
      ],
      "execution_count": null,
      "outputs": [
        {
          "output_type": "execute_result",
          "data": {
            "text/plain": [
              "[4, 2, 3, 5, 5, 3, 4, 6, 6, 4, 5, 7]"
            ]
          },
          "metadata": {
            "tags": []
          },
          "execution_count": 54
        }
      ]
    },
    {
      "cell_type": "markdown",
      "metadata": {
        "id": "OZAJk8TooKks"
      },
      "source": [
        "#### dictionary comprehension"
      ]
    },
    {
      "cell_type": "code",
      "metadata": {
        "id": "gbKRBD2CoKks",
        "outputId": "9256f5f1-2183-4a9c-d7e9-c5f9055b2cb0"
      },
      "source": [
        "dic1 = {x:y for x, y in zip(range(10), range(10))}\n",
        "dic1"
      ],
      "execution_count": null,
      "outputs": [
        {
          "output_type": "execute_result",
          "data": {
            "text/plain": [
              "{0: 0, 1: 1, 2: 2, 3: 3, 4: 4, 5: 5, 6: 6, 7: 7, 8: 8, 9: 9}"
            ]
          },
          "metadata": {
            "tags": []
          },
          "execution_count": 50
        }
      ]
    },
    {
      "cell_type": "code",
      "metadata": {
        "id": "oqFmK0RKoKkt",
        "outputId": "0136d42b-ec82-44a2-e28b-b8e6ee2aefcd"
      },
      "source": [
        "dic = {1:'NaN', 2:2, 3:4, 4:'NaN'}\n",
        "dic2 = {x:y for x, y in dic.items() if y != 'NaN'}\n",
        "dic2"
      ],
      "execution_count": null,
      "outputs": [
        {
          "output_type": "execute_result",
          "data": {
            "text/plain": [
              "{2: 2, 3: 4}"
            ]
          },
          "metadata": {
            "tags": []
          },
          "execution_count": 16
        }
      ]
    },
    {
      "cell_type": "code",
      "metadata": {
        "id": "QXKfXsFZoKkt"
      },
      "source": [
        "dic2 = dict()\n",
        "for x, y in dic.items():\n",
        "    if y != 'NaN':\n",
        "        dic2[x] = y"
      ],
      "execution_count": null,
      "outputs": []
    },
    {
      "cell_type": "code",
      "metadata": {
        "id": "p1HSAbpBoKkt",
        "outputId": "df0abc8a-caa2-4ab4-b9a8-37c74770e527"
      },
      "source": [
        "dic2"
      ],
      "execution_count": null,
      "outputs": [
        {
          "output_type": "execute_result",
          "data": {
            "text/plain": [
              "{2: 2, 3: 4}"
            ]
          },
          "metadata": {
            "tags": []
          },
          "execution_count": 18
        }
      ]
    }
  ]
}