{
  "nbformat": 4,
  "nbformat_minor": 0,
  "metadata": {
    "colab": {
      "name": "dict_fromkeys.ipynb",
      "provenance": [],
      "authorship_tag": "ABX9TyNM3xAxUfNfkmBWJ5wxnbfs",
      "include_colab_link": true
    },
    "kernelspec": {
      "name": "python3",
      "display_name": "Python 3"
    },
    "language_info": {
      "name": "python"
    }
  },
  "cells": [
    {
      "cell_type": "markdown",
      "metadata": {
        "id": "view-in-github",
        "colab_type": "text"
      },
      "source": [
        "<a href=\"https://colab.research.google.com/github/skdding3/Code-Practice/blob/main/EDA/dict_fromkeys.ipynb\" target=\"_parent\"><img src=\"https://colab.research.google.com/assets/colab-badge.svg\" alt=\"Open In Colab\"/></a>"
      ]
    },
    {
      "cell_type": "code",
      "metadata": {
        "colab": {
          "base_uri": "https://localhost:8080/"
        },
        "id": "kE0jiR0jEYEK",
        "outputId": "cff9f291-cdb6-4678-d5bb-0b7ff73fa70c"
      },
      "source": [
        "x = ('a1','a2','a3')\n",
        "y = 1\n",
        "dict1 = dict.fromkeys(x,y) #x,y 로 dict생성\n",
        "\n",
        "dict_without_values = dict.fromkeys(x)\n",
        "print(dict_without_values)"
      ],
      "execution_count": 3,
      "outputs": [
        {
          "output_type": "execute_result",
          "data": {
            "text/plain": [
              "{'a1': None, 'a2': None, 'a3': None}"
            ]
          },
          "metadata": {
            "tags": []
          },
          "execution_count": 3
        }
      ]
    }
  ]
}