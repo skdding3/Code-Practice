{
  "nbformat": 4,
  "nbformat_minor": 0,
  "metadata": {
    "kernelspec": {
      "display_name": "Python 3",
      "language": "python",
      "name": "python3"
    },
    "language_info": {
      "codemirror_mode": {
        "name": "ipython",
        "version": 3
      },
      "file_extension": ".py",
      "mimetype": "text/x-python",
      "name": "python",
      "nbconvert_exporter": "python",
      "pygments_lexer": "ipython3",
      "version": "3.6.4"
    },
    "colab": {
      "name": "넘py.ipynb",
      "provenance": [],
      "include_colab_link": true
    }
  },
  "cells": [
    {
      "cell_type": "markdown",
      "metadata": {
        "id": "view-in-github",
        "colab_type": "text"
      },
      "source": [
        "<a href=\"https://colab.research.google.com/github/skdding3/Code-Practice/blob/main/EDA/%EB%84%98py.ipynb\" target=\"_parent\"><img src=\"https://colab.research.google.com/assets/colab-badge.svg\" alt=\"Open In Colab\"/></a>"
      ]
    },
    {
      "cell_type": "markdown",
      "metadata": {
        "id": "14A7J3ZMa8E7"
      },
      "source": [
        "#### 배열 만들기"
      ]
    },
    {
      "cell_type": "code",
      "metadata": {
        "id": "Yfg0pdVia8E-",
        "outputId": "7cf278b6-55bb-402b-d155-5a11b37119dc"
      },
      "source": [
        "# 리스트에서 배열 만들기\n",
        "import numpy as np\n",
        "a = np.array([1, 4, 2, 5, 3])\n",
        "b = np.array([3.14, 4, 2, 3])\n",
        "c = np.array([1, 2, 3, 4], dtype = float)\n",
        "print(a, b, c)"
      ],
      "execution_count": null,
      "outputs": [
        {
          "output_type": "stream",
          "text": [
            "[1 4 2 5 3] [3.14 4.   2.   3.  ] [1. 2. 3. 4.]\n"
          ],
          "name": "stdout"
        }
      ]
    },
    {
      "cell_type": "code",
      "metadata": {
        "id": "pI1JHTy5a8E_",
        "outputId": "28597a7b-2b83-4335-e128-e9e246a7f527"
      },
      "source": [
        "a"
      ],
      "execution_count": null,
      "outputs": [
        {
          "output_type": "execute_result",
          "data": {
            "text/plain": [
              "array([1, 4, 2, 5, 3])"
            ]
          },
          "metadata": {
            "tags": []
          },
          "execution_count": 2
        }
      ]
    },
    {
      "cell_type": "code",
      "metadata": {
        "id": "8H-DE3CBa8E_",
        "outputId": "223779cd-9c61-48f6-a182-99bdf69ad13f"
      },
      "source": [
        "b"
      ],
      "execution_count": null,
      "outputs": [
        {
          "output_type": "execute_result",
          "data": {
            "text/plain": [
              "array([3.14, 4.  , 2.  , 3.  ])"
            ]
          },
          "metadata": {
            "tags": []
          },
          "execution_count": 3
        }
      ]
    },
    {
      "cell_type": "code",
      "metadata": {
        "id": "ootb7RS4a8FA",
        "outputId": "ed68c7ee-49e1-45ad-cf60-b3360a70e21f"
      },
      "source": [
        "c"
      ],
      "execution_count": null,
      "outputs": [
        {
          "output_type": "execute_result",
          "data": {
            "text/plain": [
              "array([1., 2., 3., 4.])"
            ]
          },
          "metadata": {
            "tags": []
          },
          "execution_count": 4
        }
      ]
    },
    {
      "cell_type": "code",
      "metadata": {
        "scrolled": true,
        "id": "jh42Kizna8FA",
        "outputId": "d76662c4-5bfa-482b-dcd8-3466bb01c281"
      },
      "source": [
        "# 함수를 이용하여 배열 만들기\n",
        "a = np.zeros(10, dtype = int) # 0으로 채운 배열 생성\n",
        "b = np.ones((3, 5), dtype = float) #1로 채운 배열 생성\n",
        "c = np.full((3,5), 3.14) # 3.14로 채운 배열 만들기 \n",
        "d = np.arange(0, 20, 2) # 0에서 시작해 2씩 더해 20까지 채우는 배열 생성\n",
        "e = np.linspace(0, 1, 5) # 0과 1 사이에 일정한 간격을 가진 다섯 개의 값으로 채운 배열 만들기\n",
        "f = np.random.random((3,3)) # 3*3 크기의 난수 배열 생성\n",
        "g = np.random.normal(0, 1, (3, 3)) # 평균 0, 표준 편차 1의 정규 분포를 따르는 3*3 난수 배열\n",
        "h = np.random.randint(0, 10, (3, 3)) # [0, 10) 구간의 임의로 정수로 채운 3*3 배열 만들기\n",
        "i = np.eye(3) # 크기 3의 단위 행렬 만들기\n",
        "\n",
        "print(\"np.zeros(10, dtype = int):\\n\", a)\n",
        "print(\"\\nnp.ones((3, 5), dtype = float):\\n\", b)\n",
        "print(\"\\nnp.full((3,5), 3.14):\\n\", c)\n",
        "print(\"\\nnp.arange(0, 20, 2):\\n\", d)\n",
        "print(\"\\nnp.linspace(0, 1, 5):\\n\", e)\n",
        "print(\"\\nnp.random.random((3,3)):\\n\", f)\n",
        "print(\"\\nnp.random.normal(0, 1, (3, 3)):\\n\", g)\n",
        "print(\"\\nnp.random.randint(0, 10, (3, 3)):\\n\", h)\n",
        "print(\"\\nnp.eye(3):\\n\", i)"
      ],
      "execution_count": null,
      "outputs": [
        {
          "output_type": "stream",
          "text": [
            "np.zeros(10, dtype = int):\n",
            " [0 0 0 0 0 0 0 0 0 0]\n",
            "\n",
            "np.ones((3, 5), dtype = float):\n",
            " [[1. 1. 1. 1. 1.]\n",
            " [1. 1. 1. 1. 1.]\n",
            " [1. 1. 1. 1. 1.]]\n",
            "\n",
            "np.full((3,5), 3.14):\n",
            " [[3.14 3.14 3.14 3.14 3.14]\n",
            " [3.14 3.14 3.14 3.14 3.14]\n",
            " [3.14 3.14 3.14 3.14 3.14]]\n",
            "\n",
            "np.arange(0, 20, 2):\n",
            " [ 0  2  4  6  8 10 12 14 16 18]\n",
            "\n",
            "np.linspace(0, 1, 5):\n",
            " [0.   0.25 0.5  0.75 1.  ]\n",
            "\n",
            "np.random.random((3,3)):\n",
            " [[0.18262827 0.27692481 0.69023281]\n",
            " [0.55079247 0.28145341 0.07734313]\n",
            " [0.63129821 0.39951056 0.36086524]]\n",
            "\n",
            "np.random.normal(0, 1, (3, 3)):\n",
            " [[ 2.00213728 -0.22744782  0.07246514]\n",
            " [-1.49533855  0.2893585   0.35447377]\n",
            " [ 0.52527444 -1.6999584  -0.22105502]]\n",
            "\n",
            "np.random.randint(0, 10, (3, 3)):\n",
            " [[4 1 8]\n",
            " [5 3 1]\n",
            " [0 1 9]]\n",
            "\n",
            "np.eye(3):\n",
            " [[1. 0. 0.]\n",
            " [0. 1. 0.]\n",
            " [0. 0. 1.]]\n"
          ],
          "name": "stdout"
        }
      ]
    },
    {
      "cell_type": "markdown",
      "metadata": {
        "id": "QyFVOd8da8FB"
      },
      "source": [
        "#### 인덱싱과 슬라이싱"
      ]
    },
    {
      "cell_type": "code",
      "metadata": {
        "id": "HZB-F_wma8FB",
        "outputId": "ffbfa76e-5905-486e-8e16-b0b50f795fb6"
      },
      "source": [
        "# 기본적인 인덱싱과 슬라이싱\n",
        "x1 = np.array([1, 3, 5, 7, 9])\n",
        "\n",
        "print(\"x1[0]:\", x1[0]) # 양수 인덱스 (맨 앞 요소)\n",
        "print(\"x1[3]:\", x1[3]) # 세 번째 요소 \n",
        "print(\"x1[-1]:\", x1[-1]) # 음수 인덱스 (맨 뒤 요소)\n",
        "print(\"x1[-2]:\", x1[-2]) # 뒤에서 네 번째 요소 \n",
        "\n",
        "print(\"x1[1:3]:\", x1[1:3]) # 1번째 요소부터 3번째 요소까지 슬라이싱"
      ],
      "execution_count": null,
      "outputs": [
        {
          "output_type": "stream",
          "text": [
            "x1[0]: 1\n",
            "x1[3]: 7\n",
            "x1[-1]: 9\n",
            "x1[-2]: 7\n",
            "x1[1:3]: [3 5]\n"
          ],
          "name": "stdout"
        }
      ]
    },
    {
      "cell_type": "code",
      "metadata": {
        "id": "pgQgqvSea8FC",
        "outputId": "958c7264-82b7-4bea-f279-4a0fb0cb61d2"
      },
      "source": [
        "x2"
      ],
      "execution_count": null,
      "outputs": [
        {
          "output_type": "execute_result",
          "data": {
            "text/plain": [
              "array([[0.95993715, 0.89384616, 0.86637042, 0.74422476, 0.2076551 ],\n",
              "       [0.90450119, 0.09896062, 0.5980032 , 0.72525142, 0.37142647],\n",
              "       [0.82978847, 0.40735121, 0.02646538, 0.64321665, 0.6424685 ],\n",
              "       [0.15657183, 0.89127111, 0.9024431 , 0.82924352, 0.50654717],\n",
              "       [0.91795215, 0.34967258, 0.44742199, 0.69074884, 0.54005106],\n",
              "       [0.57210752, 0.46614885, 0.94497135, 0.03666224, 0.15319774],\n",
              "       [0.44669552, 0.96712778, 0.33405666, 0.87628173, 0.59547695],\n",
              "       [0.9266934 , 0.67006163, 0.06378979, 0.79796435, 0.92641776],\n",
              "       [0.07485477, 0.14514047, 0.37148092, 0.36692883, 0.98838882],\n",
              "       [0.88598766, 0.14705731, 0.15832775, 0.20842547, 0.0775289 ]])"
            ]
          },
          "metadata": {
            "tags": []
          },
          "execution_count": 8
        }
      ]
    },
    {
      "cell_type": "code",
      "metadata": {
        "id": "kiN6PU5ha8FD",
        "outputId": "b8c1c066-49ee-4a97-88cd-7f28b23622c0"
      },
      "source": [
        "# 2차원 배열의 인덱싱 및 슬라이싱\n",
        "x2 = np.random.random(size = (10, 5))\n",
        "\n",
        "print(\"x2[0, 1]\", x2[0, 1])\n",
        "print(\"x2[1:4, 2]\\n\", x2[1:4, 2])\n",
        "print(\"x2[0, 2:4]\\n\", x2[0, 2:4])\n",
        "print(\"x2[0:3, 2:4]\\n\", x2[0:3, 2:4])"
      ],
      "execution_count": null,
      "outputs": [
        {
          "output_type": "stream",
          "text": [
            "x2[0, 1] 0.3597326025238873\n",
            "x2[1:4, 2]\n",
            " [0.77363942 0.94615221 0.15664472]\n",
            "x2[0, 2:4]\n",
            " [0.53831925 0.16621449]\n",
            "x2[0:3, 2:4]\n",
            " [[0.53831925 0.16621449]\n",
            " [0.77363942 0.25632754]\n",
            " [0.94615221 0.6300682 ]]\n"
          ],
          "name": "stdout"
        }
      ]
    },
    {
      "cell_type": "markdown",
      "metadata": {
        "id": "3bIKUO0Ma8FD"
      },
      "source": [
        "#### 유니버설 함수"
      ]
    },
    {
      "cell_type": "code",
      "metadata": {
        "id": "9KjaeyGta8FD",
        "outputId": "5765e0f0-64e9-4917-ea20-0f13903f9567"
      },
      "source": [
        "# 사용 기초\n",
        "x = np.array([1, 2, 3, 4])\n",
        "y = np.array([4, 3, 2, 1])\n",
        "\n",
        "print(\"x + y = \", x + y)\n",
        "print(\"x - y = \", x - y)\n",
        "print(\"x * y = \", x * y)\n",
        "print(\"x / y = \", x / y)\n",
        "print(\"log x = \", np.log(x))"
      ],
      "execution_count": null,
      "outputs": [
        {
          "output_type": "stream",
          "text": [
            "x + y =  [5 5 5 5]\n",
            "x - y =  [-3 -1  1  3]\n",
            "x * y =  [4 6 6 4]\n",
            "x / y =  [0.25       0.66666667 1.5        4.        ]\n",
            "log x =  [0.         0.69314718 1.09861229 1.38629436]\n"
          ],
          "name": "stdout"
        }
      ]
    },
    {
      "cell_type": "code",
      "metadata": {
        "id": "_pprLwvZa8FE",
        "outputId": "6caf1800-a949-4158-f892-8908ce7e2a86"
      },
      "source": [
        "# 루프와 유니버설 함수의 속도 비교\n",
        "arr_1 = np.random.randint(1, 10, size = 10 ** 8)\n",
        "arr_2 = np.random.randint(1, 10, size = 10 ** 8)\n",
        "import time\n",
        "### 리스트를 사용하여 벡터의 덧셈 구현\n",
        "t1 = time.time()\n",
        "output = []\n",
        "for val1, val2 in zip(arr_1, arr_2):\n",
        "    output.append(val1 + val2)\n",
        "t2 = time.time()\n",
        "print(\"반복문을 사용한 경우:\", round(t2 - t1, 4))\n",
        "\n",
        "### 유니버설 함수를 사용하여 벡터의 덧셈 구현\n",
        "t1 = time.time()\n",
        "output = arr_1 + arr_2\n",
        "t2 = time.time()\n",
        "print(\"유니버설 함수를 사용한 경우:\", round(t2 - t1, 4))"
      ],
      "execution_count": null,
      "outputs": [
        {
          "output_type": "stream",
          "text": [
            "반복문을 사용한 경우: 45.9652\n",
            "유니버설 함수를 사용한 경우: 6.4692\n"
          ],
          "name": "stdout"
        }
      ]
    },
    {
      "cell_type": "code",
      "metadata": {
        "id": "oQAD2tIla8FE",
        "outputId": "228b968c-6bae-46ca-a307-9272b9e1e529"
      },
      "source": [
        "# 브로드캐스팅\n",
        "print(\"np.arange(3) + 5:\", \n",
        "      np.arange(3) + 5, '\\n')\n",
        "\n",
        "print(\"np.ones((3, 3)) + np.arange(3)\\n\",\n",
        "      np.ones((3, 3)) + np.arange(3), '\\n')\n",
        "\n",
        "print(\"np.arange(3).reshape(3, 1) + np.arange(3)\\n\",\n",
        "      np.arange(3).reshape(3, 1) + np.arange(3))"
      ],
      "execution_count": null,
      "outputs": [
        {
          "output_type": "stream",
          "text": [
            "np.arange(3) + 5: [5 6 7] \n",
            "\n",
            "np.ones((3, 3)) + np.arange(3)\n",
            " [[1. 2. 3.]\n",
            " [1. 2. 3.]\n",
            " [1. 2. 3.]] \n",
            "\n",
            "np.arange(3).reshape(3, 1) + np.arange(3)\n",
            " [[0 1 2]\n",
            " [1 2 3]\n",
            " [2 3 4]]\n"
          ],
          "name": "stdout"
        }
      ]
    },
    {
      "cell_type": "code",
      "metadata": {
        "id": "zwf0d0Ema8FF",
        "outputId": "d930ce88-b2fe-4e23-b122-0268bf3a74c4"
      },
      "source": [
        "# 브로드캐스팅 예시: z - normalization\n",
        "X = np.random.random((10, 3))\n",
        "Xmean = X.mean(axis = 0) # 열별 평균 크기: (1, 3)\n",
        "Xstd = X.std(axis = 0) # 열별 표준편차 크기: (1, 3)\n",
        "\n",
        "Z = (X - Xmean) / Xstd\n",
        "\n",
        "print(\"X:\", X)\n",
        "print(\"\\nXmean:\\n\", Xmean)\n",
        "print(\"\\nXstd:\\n\", Xstd)\n",
        "print(\"\\nZ:\\n\", Z)"
      ],
      "execution_count": null,
      "outputs": [
        {
          "output_type": "stream",
          "text": [
            "X: [[0.45128136 0.60071565 0.40055875]\n",
            " [0.03452332 0.01519741 0.03614602]\n",
            " [0.11699555 0.54947815 0.64927445]\n",
            " [0.53262962 0.61794848 0.90591084]\n",
            " [0.03022641 0.27088968 0.38840134]\n",
            " [0.06164409 0.85463811 0.29485522]\n",
            " [0.21194227 0.78073511 0.95192774]\n",
            " [0.11392525 0.35561173 0.82914594]\n",
            " [0.81957851 0.74591089 0.0353037 ]\n",
            " [0.19980402 0.79578455 0.44312513]]\n",
            "\n",
            "Xmean:\n",
            " [0.25725504 0.55869098 0.49346491]\n",
            "\n",
            "Xstd:\n",
            " [0.24792542 0.25553305 0.31590509]\n",
            "\n",
            "Z:\n",
            " [[ 0.78259954  0.16445886 -0.29409517]\n",
            " [-0.89838194 -2.12690127 -1.4476465 ]\n",
            " [-0.5657326  -0.03605337  0.49321629]\n",
            " [ 1.1107154   0.23189763  1.30560076]\n",
            " [-0.91571341 -1.12627817 -0.33257954]\n",
            " [-0.78899111  1.158156   -0.62870053]\n",
            " [-0.18276775  0.86894489  1.45126762]\n",
            " [-0.57811656 -0.79472793  1.0626009 ]\n",
            " [ 2.26811542  0.73266417 -1.45031285]\n",
            " [-0.23172701  0.9278392  -0.15935096]]\n"
          ],
          "name": "stdout"
        }
      ]
    },
    {
      "cell_type": "markdown",
      "metadata": {
        "id": "Lq4-2-n6a8FF"
      },
      "source": [
        "#### 비교 연산자"
      ]
    },
    {
      "cell_type": "code",
      "metadata": {
        "id": "0iBlNjcPa8FF",
        "outputId": "af2d094b-405d-4cfc-edee-8fa11d9d5081"
      },
      "source": [
        "L = np.array([1, 2, 3, 4, 5])\n",
        "L >= 3"
      ],
      "execution_count": null,
      "outputs": [
        {
          "output_type": "execute_result",
          "data": {
            "text/plain": [
              "array([False, False,  True,  True,  True])"
            ]
          },
          "metadata": {
            "tags": []
          },
          "execution_count": 12
        }
      ]
    },
    {
      "cell_type": "code",
      "metadata": {
        "id": "VbxpF9Hla8FF",
        "outputId": "31db8ec4-059c-4e0d-8b43-3fccd7aca41a"
      },
      "source": [
        "# 비교 연산자\n",
        "L = np.array([1, 2, 3, 4, 5])\n",
        "cond = L >= 3\n",
        "sum(cond) # 조건을 만족하는 요소의 개수"
      ],
      "execution_count": null,
      "outputs": [
        {
          "output_type": "execute_result",
          "data": {
            "text/plain": [
              "3"
            ]
          },
          "metadata": {
            "tags": []
          },
          "execution_count": 27
        }
      ]
    },
    {
      "cell_type": "code",
      "metadata": {
        "id": "t4Zt5fvda8FF",
        "outputId": "c41ca795-b878-48be-b9e0-37aa3249e46c"
      },
      "source": [
        "L[cond] # 조건을 만족하는 요소만 반환"
      ],
      "execution_count": null,
      "outputs": [
        {
          "output_type": "execute_result",
          "data": {
            "text/plain": [
              "array([3, 4, 5])"
            ]
          },
          "metadata": {
            "tags": []
          },
          "execution_count": 28
        }
      ]
    }
  ]
}