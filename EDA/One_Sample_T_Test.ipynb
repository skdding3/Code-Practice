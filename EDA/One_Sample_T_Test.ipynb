{
  "nbformat": 4,
  "nbformat_minor": 0,
  "metadata": {
    "colab": {
      "name": "One Sample T-Test.ipynb",
      "provenance": [],
      "authorship_tag": "ABX9TyNpcaly5MVpM3FJQ6oygAnU",
      "include_colab_link": true
    },
    "kernelspec": {
      "name": "python3",
      "display_name": "Python 3"
    },
    "language_info": {
      "name": "python"
    }
  },
  "cells": [
    {
      "cell_type": "markdown",
      "metadata": {
        "id": "view-in-github",
        "colab_type": "text"
      },
      "source": [
        "<a href=\"https://colab.research.google.com/github/skdding3/Code-Practice/blob/main/EDA/One_Sample_T_Test.ipynb\" target=\"_parent\"><img src=\"https://colab.research.google.com/assets/colab-badge.svg\" alt=\"Open In Colab\"/></a>"
      ]
    },
    {
      "cell_type": "markdown",
      "metadata": {
        "id": "_8E9txJ99Rgo"
      },
      "source": [
        "## One Sample T-Test"
      ]
    },
    {
      "cell_type": "code",
      "metadata": {
        "id": "el0TxmR09PpL"
      },
      "source": [
        "from scipy import stats\n",
        "print(df['feature1'].mean()) # 표본의평균\n",
        "print(stats.ttest_1samp(df['feature1'], 알려진평균))\n",
        "# Output >>> T-statics, pvalue"
      ],
      "execution_count": null,
      "outputs": []
    },
    {
      "cell_type": "markdown",
      "metadata": {
        "id": "j_GbRzuu9VtW"
      },
      "source": [
        "H0 : 알려진 평균  = 표본의 평균\n",
        "\n",
        "H1 : 알려진 평균 != 표본의 평균"
      ]
    }
  ]
}