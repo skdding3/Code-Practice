{
  "nbformat": 4,
  "nbformat_minor": 0,
  "metadata": {
    "colab": {
      "name": "Lv2 전처리 1/3 결측치 대체 평균",
      "provenance": [],
      "collapsed_sections": [
        "6XMZVB_z6zHM"
      ],
      "include_colab_link": true
    },
    "kernelspec": {
      "name": "python3",
      "display_name": "Python 3"
    },
    "language_info": {
      "name": "python"
    }
  },
  "cells": [
    {
      "cell_type": "markdown",
      "metadata": {
        "id": "view-in-github",
        "colab_type": "text"
      },
      "source": [
        "<a href=\"https://colab.research.google.com/github/skdding3/Code-Practice/blob/main/Review/Lv2_%EC%A0%84%EC%B2%98%EB%A6%AC_1_3_%EA%B2%B0%EC%B8%A1%EC%B9%98_%EB%8C%80%EC%B2%B4_%ED%8F%89%EA%B7%A0.ipynb\" target=\"_parent\"><img src=\"https://colab.research.google.com/assets/colab-badge.svg\" alt=\"Open In Colab\"/></a>"
      ]
    },
    {
      "cell_type": "markdown",
      "metadata": {
        "id": "vIpjpOEXsoW0"
      },
      "source": [
        "# [↩️ 리스트로 돌아가기](https://dacon.io/competitions/open/235698/overview/description)"
      ]
    },
    {
      "cell_type": "markdown",
      "metadata": {
        "id": "Y8EsppNShcez"
      },
      "source": [
        "# 셀을 실행할 때 팝업이 뜨면 `무시하고 계속하기` 를 눌러주세요\n"
      ]
    },
    {
      "cell_type": "markdown",
      "metadata": {
        "id": "FqodyLxg4RLu"
      },
      "source": [
        "## 데이터 다운로드\n",
        "--- \n",
        "아래 셀을 실행시켜 데이터를 colab에 불러옵니다.  \n",
        "셀 실행은 <br>Windows: `Ctrl` + `Enter`<br>\n",
        "Mac: `Shift` + `Enter` <br>\n",
        "를 이용해 실행 시킬 수 있습니다. "
      ]
    },
    {
      "cell_type": "code",
      "metadata": {
        "id": "by55dpRPfTwZ",
        "outputId": "21c28e3e-fca3-41b6-b49a-e167177ccaf3",
        "colab": {
          "base_uri": "https://localhost:8080/"
        }
      },
      "source": [
        "# 데이터 다운로드 링크로 데이터를 코랩에 불러옵니다.\n",
        "\n",
        "!wget 'https://bit.ly/3gLj0Q6'\n",
        "\n",
        "import zipfile\n",
        "with zipfile.ZipFile('3gLj0Q6', 'r') as existing_zip:\n",
        "    existing_zip.extractall('data')"
      ],
      "execution_count": 1,
      "outputs": [
        {
          "output_type": "stream",
          "name": "stdout",
          "text": [
            "--2021-11-07 12:10:50--  https://bit.ly/3gLj0Q6\n",
            "Resolving bit.ly (bit.ly)... 67.199.248.10, 67.199.248.11\n",
            "Connecting to bit.ly (bit.ly)|67.199.248.10|:443... connected.\n",
            "HTTP request sent, awaiting response... 301 Moved Permanently\n",
            "Location: https://drive.google.com/uc?export=download&id=1or_QN1ksv81DNog6Tu_kWcZ5jJWf5W9E [following]\n",
            "--2021-11-07 12:10:50--  https://drive.google.com/uc?export=download&id=1or_QN1ksv81DNog6Tu_kWcZ5jJWf5W9E\n",
            "Resolving drive.google.com (drive.google.com)... 74.125.128.139, 74.125.128.113, 74.125.128.138, ...\n",
            "Connecting to drive.google.com (drive.google.com)|74.125.128.139|:443... connected.\n",
            "HTTP request sent, awaiting response... 302 Moved Temporarily\n",
            "Location: https://doc-0c-10-docs.googleusercontent.com/docs/securesc/ha0ro937gcuc7l7deffksulhg5h7mbp1/91khr6u2h000ru7e9vmduuqa644rj603/1636287000000/17946651057176172524/*/1or_QN1ksv81DNog6Tu_kWcZ5jJWf5W9E?e=download [following]\n",
            "Warning: wildcards not supported in HTTP.\n",
            "--2021-11-07 12:10:51--  https://doc-0c-10-docs.googleusercontent.com/docs/securesc/ha0ro937gcuc7l7deffksulhg5h7mbp1/91khr6u2h000ru7e9vmduuqa644rj603/1636287000000/17946651057176172524/*/1or_QN1ksv81DNog6Tu_kWcZ5jJWf5W9E?e=download\n",
            "Resolving doc-0c-10-docs.googleusercontent.com (doc-0c-10-docs.googleusercontent.com)... 172.217.218.132, 2a00:1450:4013:c08::84\n",
            "Connecting to doc-0c-10-docs.googleusercontent.com (doc-0c-10-docs.googleusercontent.com)|172.217.218.132|:443... connected.\n",
            "HTTP request sent, awaiting response... 200 OK\n",
            "Length: 39208 (38K) [application/zip]\n",
            "Saving to: ‘3gLj0Q6’\n",
            "\n",
            "3gLj0Q6             100%[===================>]  38.29K  --.-KB/s    in 0s      \n",
            "\n",
            "2021-11-07 12:10:51 (151 MB/s) - ‘3gLj0Q6’ saved [39208/39208]\n",
            "\n"
          ]
        }
      ]
    },
    {
      "cell_type": "markdown",
      "metadata": {
        "id": "ZksEbPou52yW"
      },
      "source": [
        "## 데이터 불러오기\n",
        "---"
      ]
    },
    {
      "cell_type": "code",
      "metadata": {
        "id": "YdvozqoZ4uhk"
      },
      "source": [
        "import pandas as pd\n",
        "\n",
        "train = pd.read_csv('data/train.csv')\n",
        "test = pd.read_csv('data/test.csv')"
      ],
      "execution_count": 2,
      "outputs": []
    },
    {
      "cell_type": "markdown",
      "metadata": {
        "id": "J1Is2vFL4cxY"
      },
      "source": [
        "## 👋 실습\n",
        "---\n",
        "결측치가 있는 피쳐를 살펴본 후, 각 평균치로 대체해주세요"
      ]
    },
    {
      "cell_type": "markdown",
      "metadata": {
        "id": "bp9dLR4e6DV2"
      },
      "source": [
        "## 결측치가 있는 피쳐 살펴보기\n",
        "---"
      ]
    },
    {
      "cell_type": "code",
      "metadata": {
        "id": "556GGn0866qk",
        "outputId": "4afd40ce-3e47-477d-f26f-0759b5a74d1b",
        "colab": {
          "base_uri": "https://localhost:8080/"
        }
      },
      "source": [
        "train.isnull().sum() #missing value"
      ],
      "execution_count": 6,
      "outputs": [
        {
          "output_type": "execute_result",
          "data": {
            "text/plain": [
              "id                        0\n",
              "hour                      0\n",
              "hour_bef_temperature      0\n",
              "hour_bef_precipitation    0\n",
              "hour_bef_windspeed        0\n",
              "hour_bef_humidity         0\n",
              "hour_bef_visibility       0\n",
              "hour_bef_ozone            0\n",
              "hour_bef_pm10             0\n",
              "hour_bef_pm2.5            0\n",
              "count                     0\n",
              "dtype: int64"
            ]
          },
          "metadata": {},
          "execution_count": 6
        }
      ]
    },
    {
      "cell_type": "code",
      "metadata": {
        "id": "mxvTwmveT7v1",
        "outputId": "ba8c54e0-9cf0-4499-ba7c-4611dc98407c",
        "colab": {
          "base_uri": "https://localhost:8080/"
        }
      },
      "source": [
        "test.isnull().sum() #missing value"
      ],
      "execution_count": 7,
      "outputs": [
        {
          "output_type": "execute_result",
          "data": {
            "text/plain": [
              "id                         0\n",
              "hour                       0\n",
              "hour_bef_temperature       1\n",
              "hour_bef_precipitation     1\n",
              "hour_bef_windspeed         1\n",
              "hour_bef_humidity          1\n",
              "hour_bef_visibility        1\n",
              "hour_bef_ozone            35\n",
              "hour_bef_pm10             37\n",
              "hour_bef_pm2.5            36\n",
              "dtype: int64"
            ]
          },
          "metadata": {},
          "execution_count": 7
        }
      ]
    },
    {
      "cell_type": "markdown",
      "metadata": {
        "id": "Jn_Cqwod6PSe"
      },
      "source": [
        "## 결측치 평균값으로 대체하기\n",
        "---\n",
        "fillna() 를 이용해 결측치를 각 피쳐의 평균값으로 대체하는 코드를 아래에 작성하세요."
      ]
    },
    {
      "cell_type": "code",
      "metadata": {
        "id": "bHs-y9Eq6eze"
      },
      "source": [
        "#df.fillna({'칼럼명':int(df['칼럼명'].mean)}, inplace=True)\n",
        "\n",
        "train.fillna({'hour_bef_temperature':int(train['hour_bef_temperature'].mean())}, inplace=True)\n",
        "train.fillna({'hour_bef_precipitation':int(train['hour_bef_precipitation'].mean())}, inplace=True)\n",
        "train.fillna({'hour_bef_windspeed':int(train['hour_bef_windspeed'].mean())}, inplace=True)\n",
        "train.fillna({'hour_bef_humidity':int(train['hour_bef_humidity'].mean())}, inplace=True)\n",
        "train.fillna({'hour_bef_visibility':int(train['hour_bef_visibility'].mean())}, inplace=True)\n",
        "train.fillna({'hour_bef_ozone':int(train['hour_bef_ozone'].mean())}, inplace=True)\n",
        "train.fillna({'hour_bef_pm10':int(train['hour_bef_pm10'].mean())}, inplace=True)\n",
        "train.fillna({'hour_bef_pm2.5':int(train['hour_bef_pm2.5'].mean())}, inplace=True)"
      ],
      "execution_count": 5,
      "outputs": []
    },
    {
      "cell_type": "code",
      "metadata": {
        "id": "uAkemPTJUOId"
      },
      "source": [
        "test.fillna({'hour_bef_temperature':int(test['hour_bef_temperature'].mean())}, inplace=True)\n",
        "test.fillna({'hour_bef_precipitation':int(test['hour_bef_precipitation'].mean())}, inplace=True)\n",
        "test.fillna({'hour_bef_windspeed':int(test['hour_bef_windspeed'].mean())}, inplace=True)\n",
        "test.fillna({'hour_bef_humidity':int(test['hour_bef_humidity'].mean())}, inplace=True)\n",
        "test.fillna({'hour_bef_visibility':int(test['hour_bef_visibility'].mean())}, inplace=True)\n",
        "test.fillna({'hour_bef_ozone':int(test['hour_bef_ozone'].mean())}, inplace=True)\n",
        "test.fillna({'hour_bef_pm10':int(test['hour_bef_pm10'].mean())}, inplace=True)\n",
        "test.fillna({'hour_bef_pm2.5':int(test['hour_bef_pm2.5'].mean())}, inplace=True)"
      ],
      "execution_count": 8,
      "outputs": []
    },
    {
      "cell_type": "markdown",
      "metadata": {
        "id": "16O7JmAx6glC"
      },
      "source": [
        "## 결과확인\n",
        "---"
      ]
    },
    {
      "cell_type": "code",
      "metadata": {
        "id": "B8L8r5lg6iz0",
        "outputId": "7eb5631a-82e5-4740-be1f-9855d0bbe335",
        "colab": {
          "base_uri": "https://localhost:8080/"
        }
      },
      "source": [
        "print(train.isnull().sum())\n",
        "print(test.isnull().sum())"
      ],
      "execution_count": 10,
      "outputs": [
        {
          "output_type": "stream",
          "name": "stdout",
          "text": [
            "id                        0\n",
            "hour                      0\n",
            "hour_bef_temperature      0\n",
            "hour_bef_precipitation    0\n",
            "hour_bef_windspeed        0\n",
            "hour_bef_humidity         0\n",
            "hour_bef_visibility       0\n",
            "hour_bef_ozone            0\n",
            "hour_bef_pm10             0\n",
            "hour_bef_pm2.5            0\n",
            "count                     0\n",
            "dtype: int64\n",
            "id                        0\n",
            "hour                      0\n",
            "hour_bef_temperature      0\n",
            "hour_bef_precipitation    0\n",
            "hour_bef_windspeed        0\n",
            "hour_bef_humidity         0\n",
            "hour_bef_visibility       0\n",
            "hour_bef_ozone            0\n",
            "hour_bef_pm10             0\n",
            "hour_bef_pm2.5            0\n",
            "dtype: int64\n"
          ]
        }
      ]
    },
    {
      "cell_type": "markdown",
      "metadata": {
        "id": "6XMZVB_z6zHM"
      },
      "source": [
        "## 정답"
      ]
    },
    {
      "cell_type": "code",
      "metadata": {
        "id": "SDEf32IYlAab"
      },
      "source": [
        "import pandas as pd\n",
        "\n",
        "# 정답 코드\n",
        "train = pd.read_csv('data/train.csv') \n",
        "test = pd.read_csv('data/test.csv')"
      ],
      "execution_count": null,
      "outputs": []
    },
    {
      "cell_type": "code",
      "metadata": {
        "id": "K7pzF9vhsotR"
      },
      "source": [
        "print(train.isnull().sum())"
      ],
      "execution_count": null,
      "outputs": []
    },
    {
      "cell_type": "code",
      "metadata": {
        "id": "iAwjO0wFnRZQ"
      },
      "source": [
        "train.fillna({'hour_bef_temperature':int(train['hour_bef_temperature'].mean())}, inplace=True)\n",
        "train.fillna({'hour_bef_precipitation':int(train['hour_bef_precipitation'].mean())}, inplace=True)\n",
        "train.fillna({'hour_bef_windspeed':int(train['hour_bef_windspeed'].mean())}, inplace=True)\n",
        "train.fillna({'hour_bef_humidity':int(train['hour_bef_humidity'].mean())}, inplace=True)\n",
        "train.fillna({'hour_bef_visibility':int(train['hour_bef_visibility'].mean())}, inplace=True)\n",
        "train.fillna({'hour_bef_ozone':int(train['hour_bef_ozone'].mean())}, inplace=True)\n",
        "train.fillna({'hour_bef_pm10':int(train['hour_bef_pm10'].mean())}, inplace=True)\n",
        "train.fillna({'hour_bef_pm2.5':int(train['hour_bef_pm2.5'].mean())}, inplace=True)\n"
      ],
      "execution_count": null,
      "outputs": []
    },
    {
      "cell_type": "code",
      "metadata": {
        "id": "3CBulD-c4IjV"
      },
      "source": [
        "print(train.isnull().sum())"
      ],
      "execution_count": null,
      "outputs": []
    },
    {
      "cell_type": "markdown",
      "metadata": {
        "id": "K8YgC54VtiB7"
      },
      "source": [
        "# [↩️ 리스트로 돌아가기](https://dacon.io/competitions/open/235698/overview/description)"
      ]
    }
  ]
}