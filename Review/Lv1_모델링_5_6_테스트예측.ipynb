{
  "nbformat": 4,
  "nbformat_minor": 0,
  "metadata": {
    "colab": {
      "name": "Lv1 모델링 5/6 테스트예측",
      "provenance": [],
      "collapsed_sections": [
        "AUk_fCmVhtIc"
      ],
      "include_colab_link": true
    },
    "kernelspec": {
      "name": "python3",
      "display_name": "Python 3"
    },
    "language_info": {
      "name": "python"
    }
  },
  "cells": [
    {
      "cell_type": "markdown",
      "metadata": {
        "id": "view-in-github",
        "colab_type": "text"
      },
      "source": [
        "<a href=\"https://colab.research.google.com/github/skdding3/Code-Practice/blob/main/Review/Lv1_%EB%AA%A8%EB%8D%B8%EB%A7%81_5_6_%ED%85%8C%EC%8A%A4%ED%8A%B8%EC%98%88%EC%B8%A1.ipynb\" target=\"_parent\"><img src=\"https://colab.research.google.com/assets/colab-badge.svg\" alt=\"Open In Colab\"/></a>"
      ]
    },
    {
      "cell_type": "markdown",
      "metadata": {
        "id": "vIpjpOEXsoW0"
      },
      "source": [
        "# [↩️ 리스트로 돌아가기](https://dacon.io/competitions/open/235698/overview/description)"
      ]
    },
    {
      "cell_type": "markdown",
      "metadata": {
        "id": "-Xk4YBNFhkPe"
      },
      "source": [
        "# 셀을 실행할 때 팝업이 뜨면 `무시하고 계속하기` 를 눌러주세요\n"
      ]
    },
    {
      "cell_type": "markdown",
      "metadata": {
        "id": "7A1_NrpnNgI0"
      },
      "source": [
        "## 데이터 다운로드\n",
        "--- \n",
        "아래 셀을 실행시켜 데이터를 colab에 불러옵니다.  \n",
        "셀 실행은 Ctrl + Enter 를 이용해 실행 시킬 수 있습니다. "
      ]
    },
    {
      "cell_type": "code",
      "metadata": {
        "id": "a3VxvpLvhnap",
        "outputId": "d74cb7ce-5205-47f2-ab3f-2f6d098cb9c2",
        "colab": {
          "base_uri": "https://localhost:8080/"
        }
      },
      "source": [
        "# 데이터 다운로드 링크로 데이터를 코랩에 불러옵니다.\n",
        "\n",
        "!wget 'https://bit.ly/3gLj0Q6'\n",
        "\n",
        "import zipfile\n",
        "with zipfile.ZipFile('3gLj0Q6', 'r') as existing_zip:\n",
        "    existing_zip.extractall('data')"
      ],
      "execution_count": 1,
      "outputs": [
        {
          "output_type": "stream",
          "name": "stdout",
          "text": [
            "--2021-11-01 22:56:54--  https://bit.ly/3gLj0Q6\n",
            "Resolving bit.ly (bit.ly)... 67.199.248.11, 67.199.248.10\n",
            "Connecting to bit.ly (bit.ly)|67.199.248.11|:443... connected.\n",
            "HTTP request sent, awaiting response... 301 Moved Permanently\n",
            "Location: https://drive.google.com/uc?export=download&id=1or_QN1ksv81DNog6Tu_kWcZ5jJWf5W9E [following]\n",
            "--2021-11-01 22:56:54--  https://drive.google.com/uc?export=download&id=1or_QN1ksv81DNog6Tu_kWcZ5jJWf5W9E\n",
            "Resolving drive.google.com (drive.google.com)... 142.250.188.206, 2607:f8b0:4004:836::200e\n",
            "Connecting to drive.google.com (drive.google.com)|142.250.188.206|:443... connected.\n",
            "HTTP request sent, awaiting response... 302 Moved Temporarily\n",
            "Location: https://doc-0c-10-docs.googleusercontent.com/docs/securesc/ha0ro937gcuc7l7deffksulhg5h7mbp1/hh0ak55mfrohcf5e6r3ga3662i3fh6p4/1635807375000/17946651057176172524/*/1or_QN1ksv81DNog6Tu_kWcZ5jJWf5W9E?e=download [following]\n",
            "Warning: wildcards not supported in HTTP.\n",
            "--2021-11-01 22:56:55--  https://doc-0c-10-docs.googleusercontent.com/docs/securesc/ha0ro937gcuc7l7deffksulhg5h7mbp1/hh0ak55mfrohcf5e6r3ga3662i3fh6p4/1635807375000/17946651057176172524/*/1or_QN1ksv81DNog6Tu_kWcZ5jJWf5W9E?e=download\n",
            "Resolving doc-0c-10-docs.googleusercontent.com (doc-0c-10-docs.googleusercontent.com)... 142.250.188.193, 2607:f8b0:4004:836::2001\n",
            "Connecting to doc-0c-10-docs.googleusercontent.com (doc-0c-10-docs.googleusercontent.com)|142.250.188.193|:443... connected.\n",
            "HTTP request sent, awaiting response... 200 OK\n",
            "Length: 39208 (38K) [application/zip]\n",
            "Saving to: ‘3gLj0Q6’\n",
            "\n",
            "3gLj0Q6             100%[===================>]  38.29K  --.-KB/s    in 0.007s  \n",
            "\n",
            "2021-11-01 22:56:55 (5.18 MB/s) - ‘3gLj0Q6’ saved [39208/39208]\n",
            "\n"
          ]
        }
      ]
    },
    {
      "cell_type": "markdown",
      "metadata": {
        "id": "gx8XCXCxeQk8"
      },
      "source": [
        "## 라이브러리 불러오기\n",
        "---\n",
        "아래 셀을 실행시켜 pandas 와 DecisionTreeClassifier 를 불러옵니다."
      ]
    },
    {
      "cell_type": "code",
      "metadata": {
        "id": "kt_IKrkPeNwQ"
      },
      "source": [
        "import pandas as pd\n",
        "from sklearn.tree import DecisionTreeRegressor"
      ],
      "execution_count": 2,
      "outputs": []
    },
    {
      "cell_type": "markdown",
      "metadata": {
        "id": "VxC2pa2-rgat"
      },
      "source": [
        "## 데이터 불러오기\n",
        "---\n",
        "아래 셀을 실행시켜 csv 파일 데이터를 DataFrame 객체로 불러옵니다."
      ]
    },
    {
      "cell_type": "code",
      "metadata": {
        "id": "V6wTaK4sfnms"
      },
      "source": [
        "train = pd.read_csv('data/train.csv') \n",
        "test = pd.read_csv('data/test.csv')"
      ],
      "execution_count": 3,
      "outputs": []
    },
    {
      "cell_type": "markdown",
      "metadata": {
        "id": "w_PwM9kF7Pbi"
      },
      "source": [
        "## 결측치 전처리\n",
        "---\n",
        "train 의 결측치는 제거하고, test 의 결측치는 모두 0으로 대체합니다."
      ]
    },
    {
      "cell_type": "code",
      "metadata": {
        "id": "ryKlHfLWqgjY",
        "outputId": "9e9dcf2a-3755-40f0-adc2-9cae91a88e33",
        "colab": {
          "base_uri": "https://localhost:8080/"
        }
      },
      "source": [
        "train = train.dropna()\n",
        "test = test.fillna(0)\n",
        "\n",
        "print(train.isnull().sum())\n",
        "print(test.isnull().sum())"
      ],
      "execution_count": 4,
      "outputs": [
        {
          "output_type": "stream",
          "name": "stdout",
          "text": [
            "id                        0\n",
            "hour                      0\n",
            "hour_bef_temperature      0\n",
            "hour_bef_precipitation    0\n",
            "hour_bef_windspeed        0\n",
            "hour_bef_humidity         0\n",
            "hour_bef_visibility       0\n",
            "hour_bef_ozone            0\n",
            "hour_bef_pm10             0\n",
            "hour_bef_pm2.5            0\n",
            "count                     0\n",
            "dtype: int64\n",
            "id                        0\n",
            "hour                      0\n",
            "hour_bef_temperature      0\n",
            "hour_bef_precipitation    0\n",
            "hour_bef_windspeed        0\n",
            "hour_bef_humidity         0\n",
            "hour_bef_visibility       0\n",
            "hour_bef_ozone            0\n",
            "hour_bef_pm10             0\n",
            "hour_bef_pm2.5            0\n",
            "dtype: int64\n"
          ]
        }
      ]
    },
    {
      "cell_type": "markdown",
      "metadata": {
        "id": "eHoQZSg2R3NC"
      },
      "source": [
        "## 모델 훈련\n",
        "---\n"
      ]
    },
    {
      "cell_type": "code",
      "metadata": {
        "id": "6EcxVzdNfwLR"
      },
      "source": [
        "X_train = train.drop(['count'], axis=1)\n",
        "Y_train = train['count']"
      ],
      "execution_count": 5,
      "outputs": []
    },
    {
      "cell_type": "code",
      "metadata": {
        "id": "CNOaDnbYfloy",
        "outputId": "90b9766b-a104-42ef-97f3-360e60103471",
        "colab": {
          "base_uri": "https://localhost:8080/"
        }
      },
      "source": [
        "model = DecisionTreeRegressor()\n",
        "model.fit(X_train, Y_train)"
      ],
      "execution_count": 6,
      "outputs": [
        {
          "output_type": "execute_result",
          "data": {
            "text/plain": [
              "DecisionTreeRegressor(ccp_alpha=0.0, criterion='mse', max_depth=None,\n",
              "                      max_features=None, max_leaf_nodes=None,\n",
              "                      min_impurity_decrease=0.0, min_impurity_split=None,\n",
              "                      min_samples_leaf=1, min_samples_split=2,\n",
              "                      min_weight_fraction_leaf=0.0, presort='deprecated',\n",
              "                      random_state=None, splitter='best')"
            ]
          },
          "metadata": {},
          "execution_count": 6
        }
      ]
    },
    {
      "cell_type": "markdown",
      "metadata": {
        "id": "Q453R09NhqYM"
      },
      "source": [
        "## 👋 실습\n",
        "---\n",
        "predict() 를 이용해 test data 를 훈련된 모델로 예측한 data 를 생성하고 예측결과 상위 5개를 출력하는 코드를 작성하세요.\n"
      ]
    },
    {
      "cell_type": "code",
      "metadata": {
        "id": "SFBHavgcda_y",
        "outputId": "58ff89c4-7450-4859-e7f7-b267834a7105",
        "colab": {
          "base_uri": "https://localhost:8080/"
        }
      },
      "source": [
        "predict = model.predict(test)\n",
        "predict #예측 데이터"
      ],
      "execution_count": 7,
      "outputs": [
        {
          "output_type": "execute_result",
          "data": {
            "text/plain": [
              "array([117., 143., 114.,  49.,  93., 129., 109., 300.,  15., 165., 252.,\n",
              "       248., 121.,  36., 193., 229.,  26., 199., 398., 133., 215., 106.,\n",
              "        17., 138., 155., 119.,  46., 121., 115., 181.,  30.,  30., 137.,\n",
              "        92., 278.,  49., 181., 109., 324.,   6., 137., 127., 215.,  10.,\n",
              "       324., 244.,  12., 137.,  28.,  69., 215.,  69., 191.,  64., 256.,\n",
              "        51.,  20., 284.,   2.,  16., 117.,  81., 316., 252., 137., 335.,\n",
              "        15., 173., 109.,  14.,  92.,  50., 215.,  18., 317., 256.,  37.,\n",
              "       127., 332.,  11., 290., 181., 103.,  90.,  79., 375., 137., 189.,\n",
              "       137., 252., 335., 133., 137.,  95.,  52.,  80., 117.,  30., 241.,\n",
              "       137.,  16., 109., 137., 137.,   6.,  64., 103.,  15., 180., 137.,\n",
              "       188., 332., 152., 119., 137., 108., 252.,  52., 284.,  17.,  95.,\n",
              "       124., 199., 339.,  52., 129., 137.,  23., 226., 137., 138., 272.,\n",
              "        28., 229., 278., 115.,  44., 181., 317., 431., 267.,  34.,  49.,\n",
              "       137.,  78., 129.,  75., 129., 167., 237., 181., 317., 398., 126.,\n",
              "       109.,   3., 129.,   3.,  80., 181., 130.,  16., 296., 126., 141.,\n",
              "        15., 316., 133., 252.,  16., 132., 108.,  86., 104.,  87.,  74.,\n",
              "       252., 199., 176.,  97., 186., 215., 168., 291., 138., 137., 137.,\n",
              "       317., 133.,  44.,  38., 126., 138., 121., 181., 317., 398., 130.,\n",
              "       121., 119.,  17., 304.,  17., 398., 121.,  49., 138., 252., 191.,\n",
              "       137., 335., 222., 133., 315., 199.,  97., 278., 132., 189., 107.,\n",
              "       117.,  27.,  87., 137., 137.,  40., 187., 250.,  49., 222., 252.,\n",
              "       137.,  18.,  26., 109.,  95., 425., 317., 131., 109.,  16., 256.,\n",
              "        27.,  97., 137.,  85., 109., 315., 117.,  18., 103., 164., 241.,\n",
              "       222., 165., 241.,  34., 375.,  30.,  16., 127.,  26., 228.,  27.,\n",
              "       222., 315.,  14., 176.,  86., 248., 125., 121., 137., 335.,  17.,\n",
              "       271.,  86., 193., 267.,  40., 252.,  87.,  18., 151., 222., 132.,\n",
              "       290., 115., 137., 114.,  92., 290., 222., 181., 122.,  49., 133.,\n",
              "        39., 252.,  20.,  95., 247., 213., 258., 431., 256., 107., 137.,\n",
              "       167.,  75., 252., 282., 213.,  49., 227., 150.,   5.,  45.,  34.,\n",
              "        16., 199.,  44., 138., 109., 103., 425., 252.,  92.,  66., 165.,\n",
              "        27., 103., 134., 233., 107.,  19., 315., 252., 125., 425.,  17.,\n",
              "        17., 335., 284., 111.,  15.,  19.,  87., 104., 335., 193., 291.,\n",
              "        37., 137., 213., 137.,  17.,  17.,  87., 101., 137., 237., 193.,\n",
              "       241.,  97.,  24.,  15.,  92.,  14., 272., 104.,  98., 274., 335.,\n",
              "       221.,  16.,  39., 126., 117.,  19.,  45., 111., 278., 252., 113.,\n",
              "        26., 125., 284., 138., 158.,  44., 109., 252., 137., 124., 111.,\n",
              "       252.,  34.,  35., 228.,  14.,  69.,  15., 227.,  71.,  75., 193.,\n",
              "       222.,  94., 135., 123., 278., 112., 105.,  44.,  92., 176., 111.,\n",
              "       137., 137.,  17.,  26.,  17.,  46.,  92., 124.,  92., 126., 132.,\n",
              "       398., 125., 163., 252., 112., 124., 193., 335.,  34., 108., 398.,\n",
              "       244., 138.,  40.,  87., 221., 117., 119.,  42., 324., 252., 278.,\n",
              "        91., 163., 127., 125., 109., 109.,  74., 137., 111., 193., 221.,\n",
              "       138.,  94.,  80., 107., 252.,  74., 151., 309., 274., 137., 286.,\n",
              "        91.,  56., 221.,   2.,   7., 199., 252.,  92., 117.,  34.,  17.,\n",
              "       214., 143., 402., 252.,  75., 138., 272., 163., 137.,  37.,  20.,\n",
              "       267.,  83., 228., 331., 164.,  17., 258., 137.,  93.,  34., 188.,\n",
              "       215.,  35., 138., 117., 316., 193., 213., 193., 431.,  74.,   7.,\n",
              "       127., 181., 193.,  46., 221.,  27., 137.,  17.,  82.,  35., 193.,\n",
              "       151., 173.,   7.,  15.,  33., 252.,  95.,  46.,  87.,  18.,  22.,\n",
              "        20., 252.,  15., 284., 244., 293., 109.,  92.,  56.,  87., 103.,\n",
              "       213.,  20.,  24., 165.,  24., 222., 165.,  30.,   5., 188., 176.,\n",
              "       342.,  31.,  95.,  20.,  37.,  85., 109.,  31., 125.,  86., 309.,\n",
              "       199., 398., 284., 252., 199., 252.,  15.,  34.,  21.,  22., 100.,\n",
              "        18.,   2.,  93.,  18., 252., 315., 173.,  98.,  68.,  35., 134.,\n",
              "        87.,  92., 173.,  18., 244., 134.,  23., 215.,  92.,  70., 103.,\n",
              "       188.,  86., 425., 278., 244., 109., 158.,  22., 111.,  75.,  22.,\n",
              "        51.,  41., 111., 267., 137., 189.,  87., 199., 132., 331., 137.,\n",
              "         3.,   8., 215., 205.,  94.,  22.,  46.,  92., 109., 152., 151.,\n",
              "        68.,   7., 135.,  92., 137.,  79., 310., 151., 252., 339., 252.,\n",
              "       193.,  15.,  79.,  87.,  60., 176., 252., 119., 108., 132.,  22.,\n",
              "       124., 252.,  27.,  71., 111.,  79., 189., 151., 402.,  98.,  92.,\n",
              "        91., 310., 113., 180., 135.,   7., 267.,  15.,  28.,  14., 109.,\n",
              "        87., 199., 252., 115.,  93.,  27., 222.,  15., 135.,  32.,   7.,\n",
              "        95., 137., 115.,   5., 111., 158.,  34., 331., 214.,  18., 431.,\n",
              "       129., 213.,  43.,  78.,  35., 305., 137., 137., 135., 213., 267.])"
            ]
          },
          "metadata": {},
          "execution_count": 7
        }
      ]
    },
    {
      "cell_type": "code",
      "metadata": {
        "id": "4gG3fzgeuOhk",
        "outputId": "5a3630db-83a9-4151-cfb1-1672852d8754",
        "colab": {
          "base_uri": "https://localhost:8080/"
        }
      },
      "source": [
        "predict[:5] #상위 5개만 출력력"
      ],
      "execution_count": 8,
      "outputs": [
        {
          "output_type": "execute_result",
          "data": {
            "text/plain": [
              "array([117., 143., 114.,  49.,  93.])"
            ]
          },
          "metadata": {},
          "execution_count": 8
        }
      ]
    },
    {
      "cell_type": "markdown",
      "metadata": {
        "id": "AUk_fCmVhtIc"
      },
      "source": [
        "## 정답 (`숨겨진 셀 n개` 를 누르세요.)\n",
        "---\n",
        "질문사항을 얼마든지 [게시글](https://dacon.io/competitions/open/235698/talkboard/403540?page=1&dtype=recent)에 남겨주세요 😉 <br>\n",
        "궁금한 것, 이해가 안 되는 것, 원리, 확장개념, 참고 등등 모든 범위에서 얼마든지 질문을 달아주세요 🙋"
      ]
    },
    {
      "cell_type": "code",
      "metadata": {
        "id": "7xn5MlJ2Y971"
      },
      "source": [
        "pred = model.predict(test)\n",
        "pred[:5]"
      ],
      "execution_count": null,
      "outputs": []
    },
    {
      "cell_type": "markdown",
      "metadata": {
        "id": "dEDnCj4_s7mJ"
      },
      "source": [
        "# [↩️ 리스트로 돌아가기](https://dacon.io/competitions/open/235698/overview/description)"
      ]
    }
  ]
}