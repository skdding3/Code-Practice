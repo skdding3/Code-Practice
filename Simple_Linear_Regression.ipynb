{
  "nbformat": 4,
  "nbformat_minor": 0,
  "metadata": {
    "kernelspec": {
      "display_name": "Python 3",
      "language": "python",
      "name": "python3"
    },
    "language_info": {
      "codemirror_mode": {
        "name": "ipython",
        "version": 3
      },
      "file_extension": ".py",
      "mimetype": "text/x-python",
      "name": "python",
      "nbconvert_exporter": "python",
      "pygments_lexer": "ipython3",
      "version": "3.6.3"
    },
    "colab": {
      "name": "Simple Linear Regression.ipynb",
      "provenance": [],
      "include_colab_link": true
    }
  },
  "cells": [
    {
      "cell_type": "markdown",
      "metadata": {
        "id": "view-in-github",
        "colab_type": "text"
      },
      "source": [
        "<a href=\"https://colab.research.google.com/github/skdding3/Code-Practice/blob/main/Simple_Linear_Regression.ipynb\" target=\"_parent\"><img src=\"https://colab.research.google.com/assets/colab-badge.svg\" alt=\"Open In Colab\"/></a>"
      ]
    },
    {
      "cell_type": "markdown",
      "metadata": {
        "id": "4RJUVhzPBODY"
      },
      "source": [
        "##텐서플로우(TensorFlow)란?\n",
        "텐서플로우는 텐서(Tensor)들이 흐른다는 의미를 갖고 있다. 우리가 작성한 텐서들이 돌아 다니면서 기계가 학습하는 그림을 머리속에서 그리면 조금 더 쉽게 이해 할 수 있을 것이다.\n",
        "\n",
        "\n",
        "텐서플로우는\n",
        "- 구글에서 만든 오픈소스 라이브러리다.\n",
        "- 데이터 흐름 그래프(Data Flow Graph)를 사용하여 수치 연산을 해주는 라이브러리다.\n",
        "- 기계 학습분야의 프로그램을 만들기 위한 라이브러리다.\n",
        "\n",
        "기계학습을 위한 오픈소스 라이브러리는 많이 존재한다. 하지만, 그 많은 라이브러리들 중 웹상으로 가장 많은 정보가 존재하여 압도적으로 많이 사용되고 있다."
      ]
    },
    {
      "cell_type": "code",
      "metadata": {
        "id": "I2YhDGldBHo1"
      },
      "source": [
        "import tensorflow as tf"
      ],
      "execution_count": null,
      "outputs": []
    },
    {
      "cell_type": "code",
      "metadata": {
        "id": "-1de6xcLBHo2"
      },
      "source": [
        "X_data = [1, 2, 3]\n",
        "Y_data = [1, 2, 3]"
      ],
      "execution_count": null,
      "outputs": []
    },
    {
      "cell_type": "code",
      "metadata": {
        "id": "GyysLN-mBHo3"
      },
      "source": [
        "W = tf.Variable(tf.random_normal([1]), name='weight')\n",
        "X = tf.placeholder(tf.float32)\n",
        "Y = tf.placeholder(tf.float32)"
      ],
      "execution_count": null,
      "outputs": []
    },
    {
      "cell_type": "code",
      "metadata": {
        "id": "pZJgKM9kBHo3"
      },
      "source": [
        "hypothesis = W * X"
      ],
      "execution_count": null,
      "outputs": []
    },
    {
      "cell_type": "code",
      "metadata": {
        "id": "iGUWOOpVBHo4"
      },
      "source": [
        "cost = tf.reduce_mean(tf.square(hypothesis - Y))"
      ],
      "execution_count": null,
      "outputs": []
    },
    {
      "cell_type": "code",
      "metadata": {
        "id": "ktYulgocBHo4"
      },
      "source": [
        "optimizer = tf.train.GradientDescentOptimizer(learning_rate=0.01).minimize(cost)"
      ],
      "execution_count": null,
      "outputs": []
    },
    {
      "cell_type": "code",
      "metadata": {
        "id": "M5TPay1NBHo4",
        "outputId": "76ea8cab-3257-4ae8-f39c-fc7d63851d55"
      },
      "source": [
        "with tf.Session() as sess:\n",
        "    sess.run(tf.global_variables_initializer())\n",
        "    for epoch in range(1000):\n",
        "        _, _cost = sess.run([optimizer, cost], feed_dict={X:X_data, Y:Y_data})\n",
        "        if epoch % 100 == 0:\n",
        "            print(_cost)\n",
        "    output = sess.run(hypothesis, feed_dict={X:[4, 5, 6]})\n",
        "    print(output)"
      ],
      "execution_count": null,
      "outputs": [
        {
          "output_type": "stream",
          "text": [
            "3.2454426\n",
            "1.0055484e-08\n",
            "4.5119464e-13\n",
            "4.5119464e-13\n",
            "4.5119464e-13\n",
            "4.5119464e-13\n",
            "4.5119464e-13\n",
            "4.5119464e-13\n",
            "4.5119464e-13\n",
            "4.5119464e-13\n",
            "[3.9999988 4.9999986 5.999998 ]\n"
          ],
          "name": "stdout"
        }
      ]
    },
    {
      "cell_type": "code",
      "metadata": {
        "id": "2G0zn-HqBHo6",
        "colab": {
          "base_uri": "https://localhost:8080/"
        },
        "outputId": "01afab9d-3173-4a0c-b574-2066ef04a288"
      },
      "source": [
        "import tensorflow as tf\n",
        " \n",
        "# 노드 생성\n",
        "node1 = tf.constant(5., tf.float32)\n",
        "node2 = tf.constant(8.)\n",
        "node3 = tf.add(node1, node2)\n",
        " \n",
        "print(\"node1 : \", node1, \"\\nnode2 : \", node2, \"\\nnode3 : \", node3)"
      ],
      "execution_count": null,
      "outputs": [
        {
          "output_type": "stream",
          "text": [
            "node1 :  tf.Tensor(5.0, shape=(), dtype=float32) \n",
            "node2 :  tf.Tensor(8.0, shape=(), dtype=float32) \n",
            "node3 :  tf.Tensor(13.0, shape=(), dtype=float32)\n"
          ],
          "name": "stdout"
        }
      ]
    },
    {
      "cell_type": "code",
      "metadata": {
        "id": "2f9KeO0RCgE8",
        "colab": {
          "base_uri": "https://localhost:8080/"
        },
        "outputId": "3069a6fb-c4e6-403b-d5b6-b44a6b631cad"
      },
      "source": [
        "!pip install placeholder"
      ],
      "execution_count": null,
      "outputs": [
        {
          "output_type": "stream",
          "text": [
            "Collecting placeholder\n",
            "  Downloading placeholder-1.2.1-cp37-cp37m-manylinux2014_x86_64.whl (19 kB)\n",
            "Installing collected packages: placeholder\n",
            "Successfully installed placeholder-1.2.1\n"
          ],
          "name": "stdout"
        }
      ]
    }
  ]
}