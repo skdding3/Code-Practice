{
  "nbformat": 4,
  "nbformat_minor": 0,
  "metadata": {
    "colab": {
      "name": "2.3_vector.ipynb",
      "provenance": [],
      "collapsed_sections": []
    },
    "kernelspec": {
      "name": "python3",
      "display_name": "Python 3"
    },
    "language_info": {
      "name": "python"
    }
  },
  "cells": [
    {
      "cell_type": "markdown",
      "metadata": {
        "id": "gm_XohWoOmZ_"
      },
      "source": [
        "# Vector"
      ]
    },
    {
      "cell_type": "code",
      "metadata": {
        "colab": {
          "base_uri": "https://localhost:8080/"
        },
        "id": "CCKv3tPbjl8v",
        "outputId": "8cfef4a1-1065-4331-e019-4e49cec520a0"
      },
      "source": [
        "# 라이브러리 불러오기\n",
        "import tensorflow as tf\n",
        "import numpy as np\n",
        "\n",
        "# 1차원 배열 정의 \n",
        "py_list = [10., 20., 30., 40.] # 파이썬 리스트 활용\n",
        "num_arr = np.array([10., 10., 10., 10.]) # 넘파이 배열 활용\n",
        "\n",
        "# 텐서 변환\n",
        "vec1 = tf.constant(py_list, dtype=tf.float32)\n",
        "vec2 = tf.constant(num_arr, dtype=tf.float32)\n",
        "\n",
        "# 텐처 출력\n",
        "print(\"vec1:\", vec1)\n",
        "print(\"vec2:\", vec2)"
      ],
      "execution_count": 1,
      "outputs": [
        {
          "output_type": "stream",
          "text": [
            "vec1: tf.Tensor([10. 20. 30. 40.], shape=(4,), dtype=float32)\n",
            "vec2: tf.Tensor([10. 10. 10. 10.], shape=(4,), dtype=float32)\n"
          ],
          "name": "stdout"
        }
      ]
    },
    {
      "cell_type": "code",
      "metadata": {
        "colab": {
          "base_uri": "https://localhost:8080/"
        },
        "id": "BcD7j0wkjvRF",
        "outputId": "633c999f-5dfd-48f7-ff5a-5be124f12d46"
      },
      "source": [
        "# 랭크 확인\n",
        "print(tf.rank(vec1))\n",
        "print(tf.rank(vec2))"
      ],
      "execution_count": 2,
      "outputs": [
        {
          "output_type": "stream",
          "text": [
            "tf.Tensor(1, shape=(), dtype=int32)\n",
            "tf.Tensor(1, shape=(), dtype=int32)\n"
          ],
          "name": "stdout"
        }
      ]
    },
    {
      "cell_type": "code",
      "metadata": {
        "id": "M1AYD2Q3j0BW",
        "colab": {
          "base_uri": "https://localhost:8080/"
        },
        "outputId": "f1dd5e93-596e-4cfc-a654-06148b1c4d65"
      },
      "source": [
        "# 덧셈 함수\n",
        "add1 = tf.math.add(vec1, vec2)\n",
        "print(\"result:\", add1)\n",
        "print(\"rank:\", tf.rank(add1))"
      ],
      "execution_count": 3,
      "outputs": [
        {
          "output_type": "stream",
          "text": [
            "result: tf.Tensor([20. 30. 40. 50.], shape=(4,), dtype=float32)\n",
            "rank: tf.Tensor(1, shape=(), dtype=int32)\n"
          ],
          "name": "stdout"
        }
      ]
    },
    {
      "cell_type": "code",
      "metadata": {
        "colab": {
          "base_uri": "https://localhost:8080/"
        },
        "id": "QkoQ69WIq8DP",
        "outputId": "88162f26-5662-4179-ae70-77f8de2bdde8"
      },
      "source": [
        "# 덧셈 연산자\n",
        "add2 = vec1 + vec2\n",
        "print(\"result:\", add2)\n",
        "print(\"rank:\", tf.rank(add2))"
      ],
      "execution_count": 4,
      "outputs": [
        {
          "output_type": "stream",
          "text": [
            "result: tf.Tensor([20. 30. 40. 50.], shape=(4,), dtype=float32)\n",
            "rank: tf.Tensor(1, shape=(), dtype=int32)\n"
          ],
          "name": "stdout"
        }
      ]
    },
    {
      "cell_type": "code",
      "metadata": {
        "colab": {
          "base_uri": "https://localhost:8080/"
        },
        "id": "_uj8C-Luq8DQ",
        "outputId": "8b70ee2a-6343-4c73-9e6e-efe7bec8787e"
      },
      "source": [
        "# tf.math 모듈 함수\n",
        "print(tf.math.subtract(vec1, vec2))\n",
        "print(tf.math.multiply(vec1, vec2))\n",
        "print(tf.math.divide(vec1, vec2))\n",
        "print(tf.math.mod(vec1, vec2))\n",
        "print(tf.math.floordiv(vec1, vec2))"
      ],
      "execution_count": 5,
      "outputs": [
        {
          "output_type": "stream",
          "text": [
            "tf.Tensor([ 0. 10. 20. 30.], shape=(4,), dtype=float32)\n",
            "tf.Tensor([100. 200. 300. 400.], shape=(4,), dtype=float32)\n",
            "tf.Tensor([1. 2. 3. 4.], shape=(4,), dtype=float32)\n",
            "tf.Tensor([0. 0. 0. 0.], shape=(4,), dtype=float32)\n",
            "tf.Tensor([1. 2. 3. 4.], shape=(4,), dtype=float32)\n"
          ],
          "name": "stdout"
        }
      ]
    },
    {
      "cell_type": "code",
      "metadata": {
        "colab": {
          "base_uri": "https://localhost:8080/"
        },
        "id": "tFlvQghLq8DR",
        "outputId": "08b5eab9-a79c-4268-9cbe-3757104ba9b7"
      },
      "source": [
        "# 파이썬 연산자\n",
        "print(vec1 - vec2)\n",
        "print(vec1 * vec2)\n",
        "print(vec1 / vec2)\n",
        "print(vec1 % vec2)\n",
        "print(vec1 // vec2)"
      ],
      "execution_count": 6,
      "outputs": [
        {
          "output_type": "stream",
          "text": [
            "tf.Tensor([ 0. 10. 20. 30.], shape=(4,), dtype=float32)\n",
            "tf.Tensor([100. 200. 300. 400.], shape=(4,), dtype=float32)\n",
            "tf.Tensor([1. 2. 3. 4.], shape=(4,), dtype=float32)\n",
            "tf.Tensor([0. 0. 0. 0.], shape=(4,), dtype=float32)\n",
            "tf.Tensor([1. 2. 3. 4.], shape=(4,), dtype=float32)\n"
          ],
          "name": "stdout"
        }
      ]
    },
    {
      "cell_type": "code",
      "metadata": {
        "id": "zkKVYXXSq8DR",
        "colab": {
          "base_uri": "https://localhost:8080/"
        },
        "outputId": "236ba892-5b73-4fe0-f30f-b43107c432cd"
      },
      "source": [
        "# 합계 구하기\n",
        "print ( tf.reduce_sum(vec1) )\n",
        "print ( tf.reduce_sum(vec2) )"
      ],
      "execution_count": 7,
      "outputs": [
        {
          "output_type": "stream",
          "text": [
            "tf.Tensor(100.0, shape=(), dtype=float32)\n",
            "tf.Tensor(40.0, shape=(), dtype=float32)\n"
          ],
          "name": "stdout"
        }
      ]
    },
    {
      "cell_type": "code",
      "metadata": {
        "colab": {
          "base_uri": "https://localhost:8080/"
        },
        "id": "B92xJtn1fapM",
        "outputId": "9286d315-0e0d-4362-9424-53d91ffeb924"
      },
      "source": [
        "# 거듭제곱\n",
        "print( tf.math.square(vec1) )"
      ],
      "execution_count": 8,
      "outputs": [
        {
          "output_type": "stream",
          "text": [
            "tf.Tensor([ 100.  400.  900. 1600.], shape=(4,), dtype=float32)\n"
          ],
          "name": "stdout"
        }
      ]
    },
    {
      "cell_type": "code",
      "metadata": {
        "colab": {
          "base_uri": "https://localhost:8080/"
        },
        "id": "x-Ha6m0sjBE_",
        "outputId": "191c98ea-3324-4d2f-b694-68f40c5370c5"
      },
      "source": [
        "# 거듭제곱 (파이썬 연산자)\n",
        "print( vec1**2 )"
      ],
      "execution_count": 9,
      "outputs": [
        {
          "output_type": "stream",
          "text": [
            "tf.Tensor([ 100.  400.  900. 1600.], shape=(4,), dtype=float32)\n"
          ],
          "name": "stdout"
        }
      ]
    },
    {
      "cell_type": "code",
      "metadata": {
        "colab": {
          "base_uri": "https://localhost:8080/"
        },
        "id": "y4QaPqVahFwc",
        "outputId": "a6cb707e-e713-4c86-b37e-6bfe4e7cab79"
      },
      "source": [
        "# 제곱근\n",
        "print( tf.math.sqrt(vec2) )"
      ],
      "execution_count": 10,
      "outputs": [
        {
          "output_type": "stream",
          "text": [
            "tf.Tensor([3.1622777 3.1622777 3.1622777 3.1622777], shape=(4,), dtype=float32)\n"
          ],
          "name": "stdout"
        }
      ]
    },
    {
      "cell_type": "code",
      "metadata": {
        "colab": {
          "base_uri": "https://localhost:8080/"
        },
        "id": "C3Pw2GYhhgtp",
        "outputId": "78a6b43c-da61-48e2-f03e-9aec63943e45"
      },
      "source": [
        "# 제곱근 (파이썬 연산자)\n",
        "print( vec2**0.5 )"
      ],
      "execution_count": 11,
      "outputs": [
        {
          "output_type": "stream",
          "text": [
            "tf.Tensor([3.1622777 3.1622777 3.1622777 3.1622777], shape=(4,), dtype=float32)\n"
          ],
          "name": "stdout"
        }
      ]
    },
    {
      "cell_type": "code",
      "metadata": {
        "colab": {
          "base_uri": "https://localhost:8080/"
        },
        "id": "YJj2iJtzjUB9",
        "outputId": "ff8e0449-b938-42ef-935a-b82ac04d336d"
      },
      "source": [
        "# 브로드캐스팅 연산 \n",
        "print (vec1 + 1)"
      ],
      "execution_count": 12,
      "outputs": [
        {
          "output_type": "stream",
          "text": [
            "tf.Tensor([11. 21. 31. 41.], shape=(4,), dtype=float32)\n"
          ],
          "name": "stdout"
        }
      ]
    }
  ]
}