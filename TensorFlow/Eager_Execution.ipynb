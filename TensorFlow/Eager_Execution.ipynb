{
  "nbformat": 4,
  "nbformat_minor": 0,
  "metadata": {
    "colab": {
      "name": "Eager Execution",
      "provenance": [],
      "collapsed_sections": [],
      "include_colab_link": true
    },
    "kernelspec": {
      "name": "python3",
      "display_name": "Python 3"
    },
    "language_info": {
      "name": "python"
    }
  },
  "cells": [
    {
      "cell_type": "markdown",
      "metadata": {
        "id": "view-in-github",
        "colab_type": "text"
      },
      "source": [
        "<a href=\"https://colab.research.google.com/github/skdding3/Code-Practice/blob/main/TensorFlow/Eager_Execution.ipynb\" target=\"_parent\"><img src=\"https://colab.research.google.com/assets/colab-badge.svg\" alt=\"Open In Colab\"/></a>"
      ]
    },
    {
      "cell_type": "markdown",
      "metadata": {
        "id": "l_FpR3cmS4Gw"
      },
      "source": [
        "Eager Execution (즉시실행)"
      ]
    },
    {
      "cell_type": "code",
      "metadata": {
        "colab": {
          "base_uri": "https://localhost:8080/"
        },
        "id": "euf87uP4jI0p",
        "outputId": "fffd9921-b4f2-484c-cd4d-caff94cbf17f"
      },
      "source": [
        "import tensorflow as tf\n",
        "print(tf.executing_eagerly())"
      ],
      "execution_count": null,
      "outputs": [
        {
          "output_type": "stream",
          "text": [
            "True\n"
          ],
          "name": "stdout"
        }
      ]
    },
    {
      "cell_type": "code",
      "metadata": {
        "colab": {
          "base_uri": "https://localhost:8080/"
        },
        "id": "CCKv3tPbjl8v",
        "outputId": "367f2562-b03c-43d7-da84-b12079799e81"
      },
      "source": [
        "sun = 1\n",
        "ki = 2\n",
        "sunki = tf.math.add(sun, ki)\n",
        "print(sunki)"
      ],
      "execution_count": null,
      "outputs": [
        {
          "output_type": "stream",
          "text": [
            "tf.Tensor(3, shape=(), dtype=int32)\n"
          ],
          "name": "stdout"
        }
      ]
    },
    {
      "cell_type": "code",
      "metadata": {
        "colab": {
          "base_uri": "https://localhost:8080/"
        },
        "id": "BcD7j0wkjvRF",
        "outputId": "5c882289-4c74-44f4-d202-4e24461d63b8"
      },
      "source": [
        "sunki.numpy()"
      ],
      "execution_count": null,
      "outputs": [
        {
          "output_type": "execute_result",
          "data": {
            "text/plain": [
              "3"
            ]
          },
          "metadata": {
            "tags": []
          },
          "execution_count": 4
        }
      ]
    },
    {
      "cell_type": "code",
      "metadata": {
        "id": "03Twrq7XlL2_",
        "colab": {
          "base_uri": "https://localhost:8080/"
        },
        "outputId": "46831c81-8f54-497c-c842-257ef9b4cd69"
      },
      "source": [
        "a = tf.constant([[1,2],\n",
        "                [3,4]])\n",
        "\n",
        "print (a)"
      ],
      "execution_count": null,
      "outputs": [
        {
          "output_type": "stream",
          "text": [
            "tf.Tensor(\n",
            "[[1 2]\n",
            " [3 4]], shape=(2, 2), dtype=int32)\n"
          ],
          "name": "stdout"
        }
      ]
    },
    {
      "cell_type": "markdown",
      "metadata": {
        "id": "mha2JhaYl0x0"
      },
      "source": [
        "NumPy tf.Tensor.numpy method ndarray"
      ]
    },
    {
      "cell_type": "code",
      "metadata": {
        "id": "5dLK9Au0lxv_",
        "colab": {
          "base_uri": "https://localhost:8080/"
        },
        "outputId": "cce14933-fbcd-498a-e3dc-0b3d681d2177"
      },
      "source": [
        "b = tf.add(a,1)\n",
        "\n",
        "b       #Broadcasting"
      ],
      "execution_count": null,
      "outputs": [
        {
          "output_type": "execute_result",
          "data": {
            "text/plain": [
              "<tf.Tensor: shape=(2, 2), dtype=int32, numpy=\n",
              "array([[2, 3],\n",
              "       [4, 5]], dtype=int32)>"
            ]
          },
          "metadata": {
            "tags": []
          },
          "execution_count": 7
        }
      ]
    },
    {
      "cell_type": "code",
      "metadata": {
        "id": "wMj6Eh20mCEf",
        "colab": {
          "base_uri": "https://localhost:8080/"
        },
        "outputId": "d06ef442-1cb6-43d3-cc7d-5e30ae67a486"
      },
      "source": [
        "print (b) #print"
      ],
      "execution_count": null,
      "outputs": [
        {
          "output_type": "stream",
          "text": [
            "tf.Tensor(\n",
            "[[2 3]\n",
            " [4 5]], shape=(2, 2), dtype=int32)\n"
          ],
          "name": "stdout"
        }
      ]
    },
    {
      "cell_type": "code",
      "metadata": {
        "id": "eE2SxkTgmKaO",
        "colab": {
          "base_uri": "https://localhost:8080/"
        },
        "outputId": "0e6da422-035e-44f3-f13e-da57ce60b037"
      },
      "source": [
        "print (a * b) #연산자 오버로딩"
      ],
      "execution_count": null,
      "outputs": [
        {
          "output_type": "stream",
          "text": [
            "tf.Tensor(\n",
            "[[ 2  6]\n",
            " [12 20]], shape=(2, 2), dtype=int32)\n"
          ],
          "name": "stdout"
        }
      ]
    },
    {
      "cell_type": "code",
      "metadata": {
        "id": "xEpi8RfzmUEe"
      },
      "source": [
        ""
      ],
      "execution_count": null,
      "outputs": []
    }
  ]
}